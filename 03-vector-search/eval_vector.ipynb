{
 "cells": [
  {
   "cell_type": "code",
   "execution_count": 1,
   "id": "a9087da0-1264-4d62-aa60-6438c952cb95",
   "metadata": {},
   "outputs": [],
   "source": [
    "import json\n",
    "\n",
    "# From the ground_truth.ipynb, we created dataset with ids on it.\n",
    "with open('documents-with-ids.json', 'rt') as f_in:\n",
    "    documents = json.load(f_in)"
   ]
  },
  {
   "cell_type": "code",
   "execution_count": 2,
   "id": "e3054851-2301-4e72-ab3a-6cf47429dd85",
   "metadata": {},
   "outputs": [
    {
     "data": {
      "text/plain": [
       "[{'text': \"The purpose of this document is to capture frequently asked technical questions\\nThe exact day and hour of the course will be 15th Jan 2024 at 17h00. The course will start with the first  “Office Hours'' live.1\\nSubscribe to course public Google Calendar (it works from Desktop only).\\nRegister before the course starts using this link.\\nJoin the course Telegram channel with announcements.\\nDon’t forget to register in DataTalks.Club's Slack and join the channel.\",\n",
       "  'section': 'General course-related questions',\n",
       "  'question': 'Course - When will the course start?',\n",
       "  'course': 'data-engineering-zoomcamp',\n",
       "  'id': 'c02e79ef'},\n",
       " {'text': 'GitHub - DataTalksClub data-engineering-zoomcamp#prerequisites',\n",
       "  'section': 'General course-related questions',\n",
       "  'question': 'Course - What are the prerequisites for this course?',\n",
       "  'course': 'data-engineering-zoomcamp',\n",
       "  'id': '1f6520ca'},\n",
       " {'text': \"Yes, even if you don't register, you're still eligible to submit the homeworks.\\nBe aware, however, that there will be deadlines for turning in the final projects. So don't leave everything for the last minute.\",\n",
       "  'section': 'General course-related questions',\n",
       "  'question': 'Course - Can I still join the course after the start date?',\n",
       "  'course': 'data-engineering-zoomcamp',\n",
       "  'id': '7842b56a'},\n",
       " {'text': \"You don't need it. You're accepted. You can also just start learning and submitting homework without registering. It is not checked against any registered list. Registration is just to gauge interest before the start date.\",\n",
       "  'section': 'General course-related questions',\n",
       "  'question': 'Course - I have registered for the Data Engineering Bootcamp. When can I expect to receive the confirmation email?',\n",
       "  'course': 'data-engineering-zoomcamp',\n",
       "  'id': '0bbf41ec'},\n",
       " {'text': 'You can start by installing and setting up all the dependencies and requirements:\\nGoogle cloud account\\nGoogle Cloud SDK\\nPython 3 (installed with Anaconda)\\nTerraform\\nGit\\nLook over the prerequisites and syllabus to see if you are comfortable with these subjects.',\n",
       "  'section': 'General course-related questions',\n",
       "  'question': 'Course - What can I do before the course starts?',\n",
       "  'course': 'data-engineering-zoomcamp',\n",
       "  'id': '63394d91'}]"
      ]
     },
     "execution_count": 2,
     "metadata": {},
     "output_type": "execute_result"
    }
   ],
   "source": [
    "documents[:5]"
   ]
  },
  {
   "cell_type": "code",
   "execution_count": 3,
   "id": "96e3ca69-c63c-4b74-b9ab-a17efdcc75c6",
   "metadata": {},
   "outputs": [
    {
     "name": "stdout",
     "output_type": "stream",
     "text": [
      "Requirement already satisfied: sentence_transformers==2.7.0 in /usr/local/python/3.10.13/lib/python3.10/site-packages (2.7.0)\n",
      "Requirement already satisfied: transformers<5.0.0,>=4.34.0 in /usr/local/python/3.10.13/lib/python3.10/site-packages (from sentence_transformers==2.7.0) (4.43.1)\n",
      "Requirement already satisfied: tqdm in /usr/local/python/3.10.13/lib/python3.10/site-packages (from sentence_transformers==2.7.0) (4.66.4)\n",
      "Requirement already satisfied: torch>=1.11.0 in /home/codespace/.local/lib/python3.10/site-packages (from sentence_transformers==2.7.0) (2.3.1+cpu)\n",
      "Requirement already satisfied: numpy in /home/codespace/.local/lib/python3.10/site-packages (from sentence_transformers==2.7.0) (2.0.0)\n",
      "Requirement already satisfied: scikit-learn in /home/codespace/.local/lib/python3.10/site-packages (from sentence_transformers==2.7.0) (1.5.1)\n",
      "Requirement already satisfied: scipy in /home/codespace/.local/lib/python3.10/site-packages (from sentence_transformers==2.7.0) (1.14.0)\n",
      "Requirement already satisfied: huggingface-hub>=0.15.1 in /usr/local/python/3.10.13/lib/python3.10/site-packages (from sentence_transformers==2.7.0) (0.24.1)\n",
      "Requirement already satisfied: Pillow in /home/codespace/.local/lib/python3.10/site-packages (from sentence_transformers==2.7.0) (10.4.0)\n",
      "Requirement already satisfied: filelock in /home/codespace/.local/lib/python3.10/site-packages (from huggingface-hub>=0.15.1->sentence_transformers==2.7.0) (3.15.4)\n",
      "Requirement already satisfied: fsspec>=2023.5.0 in /home/codespace/.local/lib/python3.10/site-packages (from huggingface-hub>=0.15.1->sentence_transformers==2.7.0) (2024.6.1)\n",
      "Requirement already satisfied: packaging>=20.9 in /home/codespace/.local/lib/python3.10/site-packages (from huggingface-hub>=0.15.1->sentence_transformers==2.7.0) (24.1)\n",
      "Requirement already satisfied: pyyaml>=5.1 in /home/codespace/.local/lib/python3.10/site-packages (from huggingface-hub>=0.15.1->sentence_transformers==2.7.0) (6.0.1)\n",
      "Requirement already satisfied: requests in /home/codespace/.local/lib/python3.10/site-packages (from huggingface-hub>=0.15.1->sentence_transformers==2.7.0) (2.32.3)\n",
      "Requirement already satisfied: typing-extensions>=3.7.4.3 in /home/codespace/.local/lib/python3.10/site-packages (from huggingface-hub>=0.15.1->sentence_transformers==2.7.0) (4.12.2)\n",
      "Requirement already satisfied: sympy in /home/codespace/.local/lib/python3.10/site-packages (from torch>=1.11.0->sentence_transformers==2.7.0) (1.13.0)\n",
      "Requirement already satisfied: networkx in /home/codespace/.local/lib/python3.10/site-packages (from torch>=1.11.0->sentence_transformers==2.7.0) (3.3)\n",
      "Requirement already satisfied: jinja2 in /home/codespace/.local/lib/python3.10/site-packages (from torch>=1.11.0->sentence_transformers==2.7.0) (3.1.4)\n",
      "Requirement already satisfied: regex!=2019.12.17 in /usr/local/python/3.10.13/lib/python3.10/site-packages (from transformers<5.0.0,>=4.34.0->sentence_transformers==2.7.0) (2024.5.15)\n",
      "Requirement already satisfied: tokenizers<0.20,>=0.19 in /usr/local/python/3.10.13/lib/python3.10/site-packages (from transformers<5.0.0,>=4.34.0->sentence_transformers==2.7.0) (0.19.1)\n",
      "Requirement already satisfied: safetensors>=0.4.1 in /usr/local/python/3.10.13/lib/python3.10/site-packages (from transformers<5.0.0,>=4.34.0->sentence_transformers==2.7.0) (0.4.3)\n",
      "Requirement already satisfied: joblib>=1.2.0 in /home/codespace/.local/lib/python3.10/site-packages (from scikit-learn->sentence_transformers==2.7.0) (1.4.2)\n",
      "Requirement already satisfied: threadpoolctl>=3.1.0 in /home/codespace/.local/lib/python3.10/site-packages (from scikit-learn->sentence_transformers==2.7.0) (3.5.0)\n",
      "Requirement already satisfied: MarkupSafe>=2.0 in /home/codespace/.local/lib/python3.10/site-packages (from jinja2->torch>=1.11.0->sentence_transformers==2.7.0) (2.1.5)\n",
      "Requirement already satisfied: charset-normalizer<4,>=2 in /home/codespace/.local/lib/python3.10/site-packages (from requests->huggingface-hub>=0.15.1->sentence_transformers==2.7.0) (3.3.2)\n",
      "Requirement already satisfied: idna<4,>=2.5 in /home/codespace/.local/lib/python3.10/site-packages (from requests->huggingface-hub>=0.15.1->sentence_transformers==2.7.0) (3.7)\n",
      "Requirement already satisfied: urllib3<3,>=1.21.1 in /usr/local/python/3.10.13/lib/python3.10/site-packages (from requests->huggingface-hub>=0.15.1->sentence_transformers==2.7.0) (2.0.7)\n",
      "Requirement already satisfied: certifi>=2017.4.17 in /home/codespace/.local/lib/python3.10/site-packages (from requests->huggingface-hub>=0.15.1->sentence_transformers==2.7.0) (2024.7.4)\n",
      "Requirement already satisfied: mpmath<1.4,>=1.1.0 in /home/codespace/.local/lib/python3.10/site-packages (from sympy->torch>=1.11.0->sentence_transformers==2.7.0) (1.3.0)\n",
      "\n",
      "\u001b[1m[\u001b[0m\u001b[34;49mnotice\u001b[0m\u001b[1;39;49m]\u001b[0m\u001b[39;49m A new release of pip is available: \u001b[0m\u001b[31;49m24.1.2\u001b[0m\u001b[39;49m -> \u001b[0m\u001b[32;49m24.2\u001b[0m\n",
      "\u001b[1m[\u001b[0m\u001b[34;49mnotice\u001b[0m\u001b[1;39;49m]\u001b[0m\u001b[39;49m To update, run: \u001b[0m\u001b[32;49mpython3 -m pip install --upgrade pip\u001b[0m\n",
      "Note: you may need to restart the kernel to use updated packages.\n"
     ]
    }
   ],
   "source": [
    "pip install sentence_transformers==2.7.0"
   ]
  },
  {
   "cell_type": "code",
   "execution_count": 4,
   "id": "b320f3f0-d0d2-4ba7-8dbb-8d364210f165",
   "metadata": {},
   "outputs": [],
   "source": [
    "from sentence_transformers import SentenceTransformer "
   ]
  },
  {
   "cell_type": "code",
   "execution_count": 5,
   "id": "2a0976f6-a825-4904-9244-d3fc588f5403",
   "metadata": {},
   "outputs": [],
   "source": [
    "# 1. Load a pretrained Sentence Transformer model\n",
    "model = SentenceTransformer(\"multi-qa-MiniLM-L6-cos-v1\") # cos similarity"
   ]
  },
  {
   "cell_type": "code",
   "execution_count": 6,
   "id": "2a7fef31-bb60-4814-b22a-548fbc752f4a",
   "metadata": {},
   "outputs": [],
   "source": [
    "vector = model.encode(\"Can I still join the course?\")"
   ]
  },
  {
   "cell_type": "code",
   "execution_count": 7,
   "id": "b52213b0-300c-4c01-9982-92669968d3aa",
   "metadata": {},
   "outputs": [
    {
     "data": {
      "text/plain": [
       "384"
      ]
     },
     "execution_count": 7,
     "metadata": {},
     "output_type": "execute_result"
    }
   ],
   "source": [
    "len(vector)"
   ]
  },
  {
   "cell_type": "markdown",
   "id": "11e765b3-3f0a-4c0a-b970-f3088019c0fd",
   "metadata": {},
   "source": [
    "#### Now we want to create the embeddings."
   ]
  },
  {
   "cell_type": "code",
   "execution_count": 11,
   "id": "099e6400-7f06-48a7-8d11-8986ec7995d8",
   "metadata": {},
   "outputs": [
    {
     "name": "stderr",
     "output_type": "stream",
     "text": [
      "huggingface/tokenizers: The current process just got forked, after parallelism has already been used. Disabling parallelism to avoid deadlocks...\n",
      "To disable this warning, you can either:\n",
      "\t- Avoid using `tokenizers` before the fork if possible\n",
      "\t- Explicitly set the environment variable TOKENIZERS_PARALLELISM=(true | false)\n"
     ]
    },
    {
     "name": "stdout",
     "output_type": "stream",
     "text": [
      "Requirement already satisfied: elasticsearch in /usr/local/python/3.10.13/lib/python3.10/site-packages (8.14.0)\n",
      "Requirement already satisfied: elastic-transport<9,>=8.13 in /usr/local/python/3.10.13/lib/python3.10/site-packages (from elasticsearch) (8.13.1)\n",
      "Requirement already satisfied: urllib3<3,>=1.26.2 in /usr/local/python/3.10.13/lib/python3.10/site-packages (from elastic-transport<9,>=8.13->elasticsearch) (2.0.7)\n",
      "Requirement already satisfied: certifi in /home/codespace/.local/lib/python3.10/site-packages (from elastic-transport<9,>=8.13->elasticsearch) (2024.7.4)\n",
      "\n",
      "\u001b[1m[\u001b[0m\u001b[34;49mnotice\u001b[0m\u001b[1;39;49m]\u001b[0m\u001b[39;49m A new release of pip is available: \u001b[0m\u001b[31;49m24.1.2\u001b[0m\u001b[39;49m -> \u001b[0m\u001b[32;49m24.2\u001b[0m\n",
      "\u001b[1m[\u001b[0m\u001b[34;49mnotice\u001b[0m\u001b[1;39;49m]\u001b[0m\u001b[39;49m To update, run: \u001b[0m\u001b[32;49mpython3 -m pip install --upgrade pip\u001b[0m\n",
      "Note: you may need to restart the kernel to use updated packages.\n"
     ]
    }
   ],
   "source": [
    "pip install elasticsearch"
   ]
  },
  {
   "cell_type": "code",
   "execution_count": 12,
   "id": "5efb0352-9223-4f4f-b2a2-7ce46d89cd76",
   "metadata": {},
   "outputs": [],
   "source": [
    "from elasticsearch import Elasticsearch\n",
    "es_client = Elasticsearch('http://localhost:9200')"
   ]
  },
  {
   "cell_type": "code",
   "execution_count": 13,
   "id": "55264683-9169-43be-9dd9-1cbbc2254747",
   "metadata": {},
   "outputs": [
    {
     "data": {
      "text/plain": [
       "ObjectApiResponse({'acknowledged': True, 'shards_acknowledged': True, 'index': 'course-questions'})"
      ]
     },
     "execution_count": 13,
     "metadata": {},
     "output_type": "execute_result"
    }
   ],
   "source": [
    "index_settings = {\n",
    "    \"settings\": {\n",
    "        \"number_of_shards\": 1,\n",
    "        \"number_of_replicas\": 0\n",
    "    },\n",
    "    \"mappings\": {\n",
    "        \"properties\": {\n",
    "            \"text\": {\"type\": \"text\"},\n",
    "            \"section\": {\"type\": \"text\"},\n",
    "            \"question\": {\"type\": \"text\"},\n",
    "            \"course\": {\"type\": \"keyword\"},\n",
    "            \"id\": {\"type\": \"keyword\"},\n",
    "            \"question_vector\": {\n",
    "                \"type\": \"dense_vector\",\n",
    "                \"dims\": 384,\n",
    "                \"index\": True,\n",
    "                \"similarity\": \"cosine\"\n",
    "            },\n",
    "            \"text_vector\": {\n",
    "                \"type\": \"dense_vector\",\n",
    "                \"dims\": 384,\n",
    "                \"index\": True,\n",
    "                \"similarity\": \"cosine\"\n",
    "            },\n",
    "            \"question_text_vector\": {\n",
    "                \"type\": \"dense_vector\",\n",
    "                \"dims\": 384,\n",
    "                \"index\": True,\n",
    "                \"similarity\": \"cosine\"\n",
    "            },\n",
    "        }\n",
    "    }\n",
    "}\n",
    "\n",
    "index_name = \"course-questions\"\n",
    "\n",
    "es_client.indices.delete(index=index_name, ignore_unavailable=True) \n",
    "es_client.indices.create(index=index_name, body=index_settings) # Indexes are created"
   ]
  },
  {
   "cell_type": "code",
   "execution_count": 14,
   "id": "8d8da398-1321-4f16-a59d-c62096d6081d",
   "metadata": {},
   "outputs": [],
   "source": [
    "from tqdm.auto import tqdm"
   ]
  },
  {
   "cell_type": "code",
   "execution_count": 15,
   "id": "be81e47c-9cb0-4041-8e67-885d02d7598c",
   "metadata": {},
   "outputs": [
    {
     "data": {
      "application/vnd.jupyter.widget-view+json": {
       "model_id": "f357a6c6357f43de8c21dd19a5611754",
       "version_major": 2,
       "version_minor": 0
      },
      "text/plain": [
       "  0%|          | 0/948 [00:00<?, ?it/s]"
      ]
     },
     "metadata": {},
     "output_type": "display_data"
    }
   ],
   "source": [
    "for doc in tqdm(documents):\n",
    "    question = doc['question']\n",
    "    text = doc['text']\n",
    "    qt = question + ' ' + text\n",
    "\n",
    "    # Vector embeddings\n",
    "    doc['question_vector'] = model.encode(question)\n",
    "    doc['text_vector'] = model.encode(text)\n",
    "    doc['qt_vector'] = model.encode(qt)"
   ]
  },
  {
   "cell_type": "code",
   "execution_count": 44,
   "id": "086d0138-a49c-4d1e-8645-bc30f388d5e8",
   "metadata": {},
   "outputs": [
    {
     "data": {
      "text/plain": [
       "{'text': 'Problem description\\nInfrastructure created in AWS with CD-Deploy Action needs to be destroyed\\nSolution description\\nFrom local:\\nterraform init -backend-config=\"key=mlops-zoomcamp-prod.tfstate\" --reconfigure\\nterraform destroy --var-file vars/prod.tfvars\\nAdded by Erick Calderin',\n",
       " 'section': 'Module 6: Best practices',\n",
       " 'question': 'How to destroy infrastructure created via GitHub Actions',\n",
       " 'course': 'mlops-zoomcamp',\n",
       " 'id': '886d1617',\n",
       " 'question_vector': array([ 8.83039832e-02,  1.84535477e-02,  1.00397998e-02, -1.63603481e-02,\n",
       "         8.40308517e-02, -9.60045010e-02, -2.63261230e-04, -5.26764691e-02,\n",
       "         2.60165613e-03,  4.39167395e-02,  1.14915548e-02,  3.99805792e-02,\n",
       "         7.17471093e-02, -3.84425484e-02, -1.78289809e-03,  4.48449235e-03,\n",
       "        -4.33246046e-03,  3.55190295e-03, -1.40589215e-02,  2.84716450e-02,\n",
       "         4.25044522e-02,  1.72751918e-02, -3.62396985e-02,  1.57562196e-02,\n",
       "         7.97225684e-02,  7.66049651e-03, -4.24633622e-02, -1.26894545e-02,\n",
       "        -4.58467193e-02, -6.67330250e-02,  1.11216515e-01, -5.83932139e-02,\n",
       "        -7.71010341e-03, -5.75299300e-02,  7.57869855e-02,  9.64828134e-02,\n",
       "         7.70586589e-03, -4.69955727e-02,  1.70527808e-02, -7.97474906e-02,\n",
       "         3.66944857e-02, -2.79624760e-02, -3.23303975e-02, -2.96873152e-02,\n",
       "         2.68269461e-02,  4.19179387e-02,  6.96593244e-03, -1.21160783e-01,\n",
       "        -4.81957849e-03, -3.94159108e-02,  8.35856870e-02, -3.91505659e-02,\n",
       "        -2.51292102e-02, -1.63921919e-02,  4.63610552e-02, -1.00744970e-01,\n",
       "         6.02615997e-02,  1.66479647e-02,  9.63833556e-02, -2.54247393e-02,\n",
       "         4.99625877e-02,  7.40189403e-02,  5.99073991e-02, -3.06972135e-02,\n",
       "         4.76118363e-02,  1.00062184e-01,  5.11657307e-03,  1.07710594e-02,\n",
       "        -1.59029178e-02,  2.66958885e-02,  6.24335967e-02, -7.36053288e-02,\n",
       "        -1.54892253e-02, -3.11915781e-02,  4.98056738e-03,  1.41945854e-02,\n",
       "        -6.40291497e-02,  7.41224363e-02,  6.10434217e-03,  3.73915061e-02,\n",
       "         1.05718277e-01,  1.22856796e-02,  3.29037867e-02,  1.96171533e-02,\n",
       "        -6.51116818e-02,  1.19964465e-01,  3.17586660e-02, -5.41052781e-03,\n",
       "         1.22655295e-01, -3.35943922e-02, -8.39387625e-02,  3.50243747e-02,\n",
       "         1.01122409e-01,  2.20055245e-02,  2.73169968e-02, -6.99887201e-02,\n",
       "        -1.23527013e-01, -6.66002855e-02, -3.44266295e-02,  5.37071563e-02,\n",
       "         1.07889390e-02,  1.46042034e-02, -5.89054602e-04, -7.59828240e-02,\n",
       "        -3.52840722e-02,  1.76224450e-03, -4.03732918e-02,  2.87620872e-02,\n",
       "         4.55283513e-03,  5.25087230e-02, -5.46753146e-02, -1.72255002e-02,\n",
       "        -2.37030517e-02, -3.84838618e-02,  4.27408405e-02,  7.64361396e-02,\n",
       "         6.68158457e-02,  7.56268483e-03, -3.43454666e-02, -1.12950765e-01,\n",
       "         2.51921322e-02, -5.72716855e-02, -4.55243662e-02, -9.64154769e-03,\n",
       "         2.82710418e-02,  3.53702307e-02, -4.25364673e-02,  4.36298223e-31,\n",
       "         1.12961826e-03, -3.18185403e-03, -6.05520494e-02, -1.90948360e-02,\n",
       "         6.35010824e-02, -3.02499626e-02,  4.57750931e-02, -5.19004092e-02,\n",
       "        -3.00868461e-03,  2.07617413e-02,  4.30190228e-02,  4.85925050e-03,\n",
       "        -8.80990457e-03,  7.56525397e-02,  2.67427489e-02, -5.03511727e-02,\n",
       "         5.18294703e-03,  2.04336848e-02,  8.01110566e-02,  1.62091609e-02,\n",
       "        -1.32646775e-02,  1.21817524e-02, -1.91012826e-02, -4.66662757e-02,\n",
       "         1.54252142e-01, -4.24491987e-02, -1.54640116e-02,  1.19102001e-02,\n",
       "        -1.03210308e-01, -2.39652060e-02, -9.24486574e-03,  3.29572894e-02,\n",
       "        -3.84090059e-02,  5.11984006e-02, -3.62977050e-02, -4.44070064e-02,\n",
       "        -9.23728868e-02,  1.30012184e-02, -2.15108301e-02,  6.35398924e-02,\n",
       "        -1.85492523e-02, -1.47136103e-03, -9.82381627e-02,  1.32056586e-02,\n",
       "         1.29977182e-01, -4.31969315e-02,  8.89827311e-02,  2.82356162e-02,\n",
       "         3.65985185e-02, -2.18332913e-02,  4.58425954e-02,  2.99080517e-02,\n",
       "         4.25971448e-02, -3.69868241e-02, -4.30717170e-02, -4.60778102e-02,\n",
       "         1.59695186e-02, -4.14397344e-02, -3.10383383e-02, -2.75822133e-02,\n",
       "        -3.72383744e-03,  2.03455589e-03,  2.30348185e-02,  7.77114183e-02,\n",
       "         1.07024680e-05, -2.55359821e-02, -7.30151013e-02,  4.79512662e-02,\n",
       "        -1.86301731e-02, -6.28094971e-02,  1.84466969e-02, -4.47250903e-02,\n",
       "        -2.84526944e-02, -6.91995770e-02, -6.14435151e-02, -6.78361356e-02,\n",
       "        -2.15954222e-02,  2.95956060e-02, -2.62156427e-02,  1.03920922e-02,\n",
       "         2.16457881e-02, -1.35817882e-02,  4.09273058e-02,  3.08266338e-02,\n",
       "         2.87976880e-02,  3.38423438e-03,  1.34645300e-02,  2.78404243e-02,\n",
       "        -4.22113622e-03,  6.53365031e-02, -6.02984894e-03,  3.26949693e-02,\n",
       "        -4.79556210e-02,  1.81406084e-02, -3.57244797e-02, -2.61895605e-33,\n",
       "         9.06013697e-03, -4.13314300e-03, -3.24111693e-02,  5.38626127e-02,\n",
       "        -4.83683795e-02, -7.91945215e-03, -3.37904543e-02, -8.12458768e-02,\n",
       "         8.73366743e-03,  2.10731924e-02, -1.35152871e-02, -2.49517448e-02,\n",
       "         1.39125986e-02,  1.73459537e-02,  3.76307108e-02, -1.45345125e-02,\n",
       "         6.24019951e-02, -1.35817761e-02, -3.87598085e-03,  4.32720967e-03,\n",
       "        -4.01228406e-02,  1.29788950e-01, -6.22539371e-02,  3.45345261e-03,\n",
       "        -2.60944031e-02, -6.49302616e-04, -1.46108326e-02,  9.53639857e-03,\n",
       "         1.05693161e-01, -1.97376423e-02, -3.87109742e-02,  5.12768980e-03,\n",
       "        -6.84726378e-03, -1.65974032e-02, -4.15128134e-02,  4.14803028e-02,\n",
       "        -5.51813049e-03,  3.64070423e-02, -1.55745875e-02, -6.22398742e-02,\n",
       "         2.69911438e-02, -2.19093990e-02, -1.02471605e-01,  4.20548581e-02,\n",
       "        -5.06442413e-02, -4.20409366e-02,  9.69401188e-03, -1.22682014e-02,\n",
       "        -1.08328737e-01, -3.13344523e-02, -3.51639092e-02,  1.83764473e-02,\n",
       "         4.56734337e-02, -1.58594036e-03, -1.24413017e-02,  3.11227664e-02,\n",
       "         1.57805726e-01,  6.89377785e-02, -1.44972764e-02, -3.51382345e-02,\n",
       "         2.37039384e-02,  4.87550758e-02,  4.42951312e-03,  1.26209259e-01,\n",
       "         5.74578047e-02, -3.48454975e-02, -1.58776287e-02, -4.92379405e-02,\n",
       "        -3.21252532e-02,  2.37305239e-02,  4.34387513e-02,  5.57436273e-02,\n",
       "        -1.04273804e-01, -2.74606235e-02,  4.66623642e-02, -4.49807160e-02,\n",
       "        -2.17159782e-02,  3.96861993e-02, -3.11823785e-02,  3.80242942e-03,\n",
       "        -3.78641114e-03,  4.58866917e-02, -3.04958336e-02, -6.54422119e-02,\n",
       "         5.88013753e-02,  1.91416703e-02, -6.17422573e-02,  1.29423868e-02,\n",
       "         5.55689223e-02,  2.50519440e-02, -8.91224518e-02, -1.19744547e-01,\n",
       "         3.84395532e-02,  3.87321599e-02, -3.65199298e-02, -2.34708606e-33,\n",
       "         8.62270817e-02,  1.27020717e-01, -1.40536446e-02, -3.41211334e-02,\n",
       "        -4.34263721e-02, -2.80904192e-02, -3.23112458e-02,  1.64784417e-01,\n",
       "         4.49406588e-03, -2.12830324e-02, -5.52366208e-03,  6.48660660e-02,\n",
       "        -2.41888966e-02,  5.93286790e-02, -3.90891992e-02,  2.84937788e-02,\n",
       "         1.92041863e-02, -1.06203863e-02, -5.05517460e-02, -3.45928855e-02,\n",
       "         3.11722700e-02, -4.14137691e-02, -6.35647550e-02,  4.32911329e-02,\n",
       "         3.55308615e-02, -5.30870855e-02,  7.26338327e-02,  3.14768106e-02,\n",
       "        -2.89140567e-02,  5.26179411e-02,  1.96015704e-02, -5.89116290e-02,\n",
       "        -1.22971296e-01, -5.41540189e-03, -3.11554037e-02,  3.28238085e-02,\n",
       "        -7.50571191e-02, -2.53206640e-02,  5.85476588e-03, -5.33662885e-02,\n",
       "        -1.37238696e-01,  3.62829156e-02,  1.74892060e-02,  6.91240747e-03,\n",
       "        -1.01073176e-01, -8.89533665e-03, -7.99300149e-02, -4.52030562e-02,\n",
       "         3.60600743e-03, -5.45016453e-02,  1.52549651e-02,  4.56545390e-02,\n",
       "        -1.01187192e-01,  7.14112520e-02,  5.78827336e-02,  6.93822429e-02,\n",
       "         6.54198751e-02,  1.47127733e-02, -7.82181229e-03,  1.84574667e-02,\n",
       "        -6.45678341e-02, -2.20538918e-02,  3.32714394e-02, -9.58143994e-02],\n",
       "       dtype=float32),\n",
       " 'text_vector': array([ 6.55628964e-02,  3.37429158e-02,  5.90213984e-02, -5.90126738e-02,\n",
       "         6.32756054e-02,  4.85844351e-02,  7.09763020e-02, -5.45126013e-02,\n",
       "         8.64609051e-03,  1.04700461e-01,  2.13845447e-02, -3.88904884e-02,\n",
       "         8.10046270e-02, -4.68885861e-02, -2.01368053e-03, -4.99524362e-02,\n",
       "         4.97711264e-03, -1.01349220e-01, -6.30462095e-02, -9.59952362e-03,\n",
       "         5.93190640e-03,  5.95816821e-02,  3.52309793e-02,  1.12286918e-01,\n",
       "        -1.94979552e-02,  8.13559163e-03, -5.96099161e-02,  3.21291871e-02,\n",
       "        -2.15852186e-02, -2.76286323e-02, -3.15153748e-02,  2.84506362e-02,\n",
       "        -2.87431534e-02, -1.34260533e-02,  1.38310298e-01,  1.16648272e-01,\n",
       "        -6.14421107e-02, -2.69839913e-02, -9.43700597e-02, -6.19992800e-02,\n",
       "        -2.99123656e-02,  2.62060650e-02, -6.25961721e-02, -4.78767566e-02,\n",
       "         3.04893646e-02,  2.92518567e-02,  4.36320901e-02, -9.53210145e-02,\n",
       "         6.90711057e-03, -2.91037001e-02, -1.00457128e-02,  3.26476432e-02,\n",
       "         3.60854268e-02, -9.42313373e-02,  1.76735055e-02,  1.84666715e-03,\n",
       "         4.65759933e-02,  9.28631425e-02,  4.63311486e-02, -2.24540792e-02,\n",
       "        -3.27553693e-03, -3.39570716e-02,  5.51119000e-02, -7.41604716e-02,\n",
       "         5.95027069e-03,  9.27617773e-02, -8.06867629e-02, -3.87892919e-03,\n",
       "         1.96414217e-02,  1.78159457e-02, -5.83759658e-02, -7.35448161e-03,\n",
       "        -6.18690290e-02, -1.07796406e-02, -5.64510524e-02,  5.47390208e-02,\n",
       "        -8.99637770e-03, -1.63472258e-02,  1.23142656e-02,  1.66920181e-02,\n",
       "         5.06191626e-02, -1.01417806e-02, -4.41616178e-02, -2.30283849e-02,\n",
       "        -2.74901986e-02,  1.74529459e-02,  2.14580856e-02, -8.95922184e-02,\n",
       "         7.11666122e-02, -5.64727187e-03, -4.66434211e-02, -4.82577160e-02,\n",
       "         6.44891337e-02,  3.16547379e-02, -6.39283806e-02, -1.66675802e-02,\n",
       "        -7.79743195e-02, -5.47559112e-02, -4.55984613e-03,  5.86404698e-03,\n",
       "         1.05729513e-02, -6.90845400e-02,  7.90321734e-03, -1.17858984e-02,\n",
       "        -4.54493985e-02, -8.40300918e-02,  1.80049182e-03,  4.18107770e-02,\n",
       "         2.43689516e-03,  9.74994712e-03, -1.71597640e-03,  6.34082686e-03,\n",
       "        -8.53697062e-02, -7.55938562e-03, -1.54607268e-02,  5.84208593e-02,\n",
       "         1.22196330e-02, -6.00895584e-02, -2.71347314e-02, -2.83112843e-02,\n",
       "         4.26975414e-02, -8.81516188e-02, -6.20777793e-02,  8.10415950e-03,\n",
       "        -1.36281578e-02,  4.61690547e-03, -3.38821374e-02, -2.57504498e-31,\n",
       "         3.22051495e-02, -2.98003647e-02, -4.00273036e-03,  1.10950463e-01,\n",
       "         6.54294491e-02,  2.81068049e-02,  1.51209636e-02,  1.77905697e-03,\n",
       "        -3.86059061e-02, -4.39146571e-02,  1.11017572e-02, -1.39023634e-02,\n",
       "        -1.06457006e-02,  4.94249873e-02, -4.52502109e-02, -3.15815322e-02,\n",
       "        -3.95218581e-02,  9.36880037e-02,  1.14868488e-02, -5.28179668e-02,\n",
       "         6.97016940e-02,  7.23701790e-02,  1.22895511e-02, -9.04120281e-02,\n",
       "         1.08695693e-01, -2.08510030e-02, -2.58157887e-02, -1.89595036e-02,\n",
       "        -2.85840929e-02, -3.21765877e-02, -1.70752667e-02,  1.20542780e-03,\n",
       "         7.63297081e-02,  4.18164651e-04,  4.22154255e-02, -6.41431063e-02,\n",
       "        -8.59404281e-02,  9.82342102e-03, -7.10971206e-02, -3.72204520e-02,\n",
       "         1.45205157e-02,  6.90074265e-02, -5.51649230e-03, -3.34824771e-02,\n",
       "         4.62872833e-02, -3.65477353e-02,  1.48532346e-01,  1.84980575e-02,\n",
       "         9.34282020e-02, -6.53354451e-02,  8.38039350e-03,  2.30504312e-02,\n",
       "         1.04487307e-01, -7.72424042e-02,  6.02814220e-02,  2.58399546e-02,\n",
       "         2.36072298e-02, -5.74810393e-02, -3.37280706e-02, -1.84890274e-02,\n",
       "         2.87871286e-02, -6.06873306e-03, -1.06005762e-02,  1.65741760e-02,\n",
       "         8.90423879e-02,  3.11166123e-02, -4.94336486e-02,  9.05937627e-02,\n",
       "        -5.74523211e-03, -9.31919888e-02,  4.34463564e-03,  2.75239293e-02,\n",
       "         7.05134869e-02,  1.01388609e-02,  2.60400958e-02, -8.43725279e-02,\n",
       "         1.91689301e-02, -4.66181785e-02,  4.17469256e-02,  3.88997905e-02,\n",
       "        -3.34234610e-02, -1.65451597e-02, -4.11386490e-02,  2.49129720e-02,\n",
       "        -3.48683633e-02, -1.78899691e-02,  2.31252518e-02,  4.23646681e-02,\n",
       "        -1.62846986e-02,  6.30405992e-02, -6.04860298e-03, -2.22334173e-02,\n",
       "        -1.07978538e-01, -3.45642189e-03, -7.45700449e-02, -4.89975727e-33,\n",
       "         8.94698966e-03,  4.32030223e-02, -5.26288152e-03,  1.21677981e-03,\n",
       "         5.71890129e-03, -1.71176344e-03,  2.75958367e-02,  3.08567043e-02,\n",
       "        -1.22533878e-02, -4.12755832e-02,  4.30216193e-02, -9.78293363e-04,\n",
       "        -3.89901400e-02, -4.04777043e-02, -7.84136280e-02, -5.68325147e-02,\n",
       "         1.90096442e-02, -3.65760066e-02,  2.77995095e-02,  7.80093437e-03,\n",
       "        -4.84025888e-02, -4.91263643e-02, -1.25789410e-02,  9.34357382e-03,\n",
       "         3.39409448e-02, -4.20693606e-02, -1.28349420e-02,  5.72179779e-02,\n",
       "         6.99639544e-02, -2.89219189e-02,  3.56473327e-02,  4.20835838e-02,\n",
       "         1.36648286e-02,  1.31104499e-01, -5.40986508e-02, -4.72533815e-02,\n",
       "        -3.97191057e-03,  2.17155796e-02, -2.64600702e-02, -1.92700736e-02,\n",
       "         3.31629552e-02, -4.98379134e-02, -6.02984838e-02, -5.74338343e-03,\n",
       "         7.11553730e-03, -6.48981147e-03,  6.65423274e-02, -6.68799132e-03,\n",
       "        -5.90664335e-02, -2.75665279e-02, -3.15839909e-02, -7.90045187e-02,\n",
       "        -3.24317962e-02,  1.61847062e-02,  1.32618928e-02, -3.40781473e-02,\n",
       "         9.93166212e-03,  7.18843043e-02, -1.95980519e-02, -2.81752255e-02,\n",
       "         7.77571201e-02,  7.30475932e-02,  1.38270352e-02,  5.70123680e-02,\n",
       "         5.13545461e-02, -4.60059009e-02, -2.48705763e-02,  4.74398211e-02,\n",
       "        -5.72242215e-02, -4.64000786e-03, -2.11406574e-02, -2.88120564e-02,\n",
       "        -2.81284228e-02, -6.67844936e-02,  5.61274476e-02,  1.82754155e-02,\n",
       "        -7.18488395e-02, -2.90178508e-02,  1.02642681e-02, -4.53221500e-02,\n",
       "         8.85231048e-03,  9.99236293e-03, -7.98873827e-02,  2.29784995e-02,\n",
       "         6.74646571e-02,  4.39078026e-02, -8.20653662e-02,  1.31453499e-01,\n",
       "         3.23059857e-02,  1.27121121e-01, -1.11980759e-01, -9.22799632e-02,\n",
       "        -6.97518373e-03,  9.63461921e-02, -6.54698610e-02, -2.00767713e-33,\n",
       "         2.11284328e-02,  7.40100443e-02, -2.30113268e-02, -5.02183139e-02,\n",
       "        -6.46952316e-02,  6.21297471e-02,  9.95320231e-02,  1.31797150e-01,\n",
       "         1.72753017e-02,  2.67331750e-04, -5.25272563e-02, -4.50678803e-02,\n",
       "        -1.47306472e-02,  5.50711863e-02, -1.28528565e-01,  5.94690675e-03,\n",
       "        -4.15094867e-02,  1.10613152e-01,  1.12761240e-02, -4.56038974e-02,\n",
       "        -2.61759087e-02, -1.03750471e-02, -6.69880509e-02, -5.95331832e-04,\n",
       "         3.87893058e-02,  3.98972072e-02,  1.17542669e-02, -4.01766710e-02,\n",
       "         1.37569173e-03,  9.68941313e-04,  1.44570379e-03, -6.06637932e-02,\n",
       "        -1.44022554e-02,  6.49122372e-02, -7.15822726e-02, -2.58105248e-02,\n",
       "        -3.88752408e-02,  4.46276441e-02, -3.28308926e-03, -1.58983991e-02,\n",
       "        -1.00626513e-01,  1.14025705e-01, -4.20972556e-02, -3.24518569e-02,\n",
       "         5.90153486e-02,  9.33198258e-02, -4.26921211e-02,  4.97352928e-02,\n",
       "        -2.18842011e-02, -9.38107818e-03,  3.12142866e-03,  2.45639626e-02,\n",
       "        -1.31704509e-01,  1.05319016e-01,  6.06595539e-02,  2.35153008e-02,\n",
       "         7.40336478e-02,  5.15123131e-03,  1.43809812e-02,  2.53841747e-02,\n",
       "        -2.33464614e-02, -8.94126308e-04, -9.64843109e-03, -1.08010881e-02],\n",
       "       dtype=float32),\n",
       " 'qt_vector': array([ 8.49416777e-02,  2.88296975e-02,  2.37481594e-02, -5.14850207e-02,\n",
       "         7.14724734e-02,  1.83564646e-03,  6.42979220e-02, -5.97434901e-02,\n",
       "         9.34955757e-03,  9.87867042e-02,  2.78457552e-02, -2.13111527e-02,\n",
       "         1.09016776e-01, -5.50841875e-02,  3.84132215e-03, -3.96679044e-02,\n",
       "         7.26790074e-03, -6.27759695e-02, -6.06282800e-02, -7.41748139e-04,\n",
       "         2.28213649e-02,  4.73257452e-02, -1.91540981e-03,  7.24243671e-02,\n",
       "         1.14231491e-02,  1.21082561e-02, -5.71249314e-02,  1.76252984e-02,\n",
       "        -3.34722772e-02, -5.56986518e-02,  4.45520021e-02, -5.53412503e-03,\n",
       "        -1.37672359e-02, -3.81039344e-02,  1.32774189e-01,  1.14393406e-01,\n",
       "        -4.28294465e-02, -4.34327237e-02, -5.27130663e-02, -6.36742488e-02,\n",
       "        -1.68374274e-02,  1.47086605e-02, -5.73697761e-02, -7.09058046e-02,\n",
       "         4.74305116e-02,  3.92610393e-02,  1.18905110e-02, -1.17089711e-01,\n",
       "         1.69857889e-02, -3.98125499e-02,  2.60210186e-02,  8.40159878e-03,\n",
       "         1.44880069e-02, -6.02217913e-02,  2.72654332e-02, -3.53805721e-02,\n",
       "         6.04414940e-02,  7.35090598e-02,  6.98400289e-02, -4.15845439e-02,\n",
       "         1.13245547e-02,  1.74766909e-02,  6.59911260e-02, -6.50391057e-02,\n",
       "         1.74704529e-02,  1.23814926e-01, -5.41370064e-02, -1.58846239e-03,\n",
       "         5.14409970e-03,  3.90515625e-02, -2.94907112e-02, -3.88920493e-02,\n",
       "        -5.23059480e-02, -2.74155661e-02, -3.89859118e-02,  5.98467737e-02,\n",
       "        -3.95371020e-02,  5.22952853e-03, -5.45973610e-03,  4.51115295e-02,\n",
       "         8.66313428e-02,  1.91068556e-03, -2.13939901e-02, -2.20492352e-02,\n",
       "        -5.44587374e-02,  7.35803917e-02,  2.56281048e-02, -8.15195441e-02,\n",
       "         9.48697776e-02, -1.74701884e-02, -6.98652044e-02, -5.29690180e-04,\n",
       "         8.63639042e-02,  3.57293226e-02, -2.64853723e-02, -4.47304137e-02,\n",
       "        -1.27962455e-01, -6.41158372e-02, -1.62428115e-02,  1.56456269e-02,\n",
       "         2.17702053e-02, -3.74524295e-02, -9.38896742e-03, -3.52805406e-02,\n",
       "        -4.21627946e-02, -4.98685092e-02, -1.26397479e-02,  3.86184752e-02,\n",
       "         1.66332852e-02,  4.18380462e-02, -2.14039199e-02, -1.34162083e-02,\n",
       "        -6.64898828e-02, -3.23571675e-02,  6.11087168e-03,  8.29317123e-02,\n",
       "         4.64494228e-02, -4.19356339e-02, -3.16308998e-02, -7.69281015e-02,\n",
       "         6.08760342e-02, -8.64754543e-02, -7.28643164e-02,  1.72924681e-03,\n",
       "         1.75975531e-03,  1.72807667e-02, -4.71271761e-02, -2.72660993e-31,\n",
       "         1.45394746e-02, -2.64739431e-02, -2.15959549e-02,  4.03504819e-02,\n",
       "         8.46416056e-02,  7.35144177e-03, -3.64745414e-04, -2.68063899e-02,\n",
       "        -1.91011354e-02, -2.73148287e-02,  9.06903856e-03, -1.12109138e-02,\n",
       "        -8.95182882e-03,  5.83731830e-02, -1.74185857e-02, -1.96995400e-02,\n",
       "        -2.60980725e-02,  4.64729108e-02,  3.09374873e-02, -2.16283668e-02,\n",
       "         2.17129439e-02,  6.15712889e-02,  2.17099534e-03, -6.88937902e-02,\n",
       "         1.49235219e-01, -3.99756432e-02, -2.13119499e-02, -6.55817892e-03,\n",
       "        -7.54334107e-02, -3.89868841e-02, -2.41665188e-02,  2.81467009e-02,\n",
       "         5.10838628e-03,  1.21405581e-02,  1.36477770e-02, -5.57548404e-02,\n",
       "        -1.10289626e-01,  2.18638368e-02, -4.02038768e-02,  2.05374677e-02,\n",
       "        -1.82098206e-02,  4.60795686e-02, -4.23122346e-02,  9.38862376e-03,\n",
       "         8.66263881e-02, -4.76913899e-02,  1.49080828e-01,  2.82264911e-02,\n",
       "         1.02063686e-01, -5.53970486e-02,  2.26439629e-02,  1.57609098e-02,\n",
       "         1.06660694e-01, -7.04623982e-02,  3.29983346e-02,  1.96830858e-03,\n",
       "         2.85020657e-02, -5.19494191e-02, -3.03700753e-02, -2.16859560e-02,\n",
       "         6.91318838e-03, -1.42706931e-02,  1.34656709e-02,  2.73319297e-02,\n",
       "         6.19088337e-02,  2.05481742e-02, -7.51228705e-02,  8.45002085e-02,\n",
       "        -2.63387933e-02, -1.02809384e-01,  2.54894793e-02,  1.10217566e-02,\n",
       "         4.48591821e-02, -4.49946411e-02, -1.28967734e-02, -7.96094164e-02,\n",
       "         3.86911891e-02, -4.11954075e-02,  2.86969505e-02,  3.80520821e-02,\n",
       "        -1.42315766e-02, -1.18954023e-02, -1.15868812e-02,  3.41488533e-02,\n",
       "        -2.71776225e-02,  9.63491620e-04,  2.12865435e-02,  2.80143619e-02,\n",
       "        -1.52237900e-02,  6.26829490e-02,  9.71853640e-03, -1.15299122e-02,\n",
       "        -9.55636874e-02,  9.31938086e-03, -7.02003911e-02, -4.72196264e-33,\n",
       "         9.19060502e-03,  4.32542823e-02, -2.10153647e-02,  3.66474018e-02,\n",
       "        -2.31179129e-02, -1.68906786e-02,  1.98232476e-02, -2.56402302e-03,\n",
       "         1.90647691e-03, -1.32900402e-02,  3.65797542e-02, -3.10177281e-02,\n",
       "        -3.41572352e-02, -2.24652644e-02, -2.17518099e-02, -4.55078855e-02,\n",
       "         3.06000747e-02, -3.41890790e-02,  1.55459167e-02,  7.11126346e-03,\n",
       "        -6.65275156e-02,  4.32179775e-03, -2.63738371e-02,  1.54597079e-02,\n",
       "         1.25099514e-02, -2.90708803e-02, -7.97103625e-03,  4.01811153e-02,\n",
       "         1.07906945e-01, -3.21165472e-02,  5.56608941e-03,  3.32741626e-02,\n",
       "         2.38634553e-02,  8.16830546e-02, -5.41158617e-02, -2.83016730e-02,\n",
       "        -9.43388790e-03,  3.00390534e-02, -1.15749082e-02, -5.96243143e-02,\n",
       "         3.23280580e-02, -5.47304824e-02, -7.74676427e-02,  8.38181749e-03,\n",
       "        -2.17036176e-02,  3.72518040e-03,  6.13576435e-02,  1.59160718e-02,\n",
       "        -8.37681815e-02, -4.49559279e-02, -3.78079154e-02, -3.80267426e-02,\n",
       "        -1.04828728e-02,  2.86114011e-02,  8.57392419e-03, -2.29552593e-02,\n",
       "         6.82128519e-02,  1.05716594e-01, -3.30083258e-02, -3.92850563e-02,\n",
       "         6.78069592e-02,  8.17203522e-02,  1.64419692e-02,  1.00869901e-01,\n",
       "         5.30002303e-02, -4.91960160e-02, -7.66343763e-03, -9.78921424e-04,\n",
       "        -5.29305302e-02,  2.00749487e-02,  2.45554820e-02, -2.83190748e-04,\n",
       "        -5.91474921e-02, -4.98884507e-02,  4.68224548e-02, -1.22618547e-03,\n",
       "        -7.22331181e-02, -4.57157753e-03,  1.63898710e-03, -4.24337462e-02,\n",
       "        -1.18789058e-02,  3.45267765e-02, -6.96452633e-02, -1.10155772e-02,\n",
       "         4.95981649e-02,  8.61156359e-02, -8.98888782e-02,  1.02340855e-01,\n",
       "         6.11028783e-02,  1.10674664e-01, -1.14560321e-01, -1.29794955e-01,\n",
       "         2.00478174e-02,  6.90156594e-02, -6.89852834e-02, -2.02092366e-33,\n",
       "         7.97968730e-02,  1.01057410e-01, -2.31711641e-02, -5.74620627e-02,\n",
       "        -7.96758011e-02,  2.57097241e-02,  7.02133775e-02,  1.72582373e-01,\n",
       "         1.67988725e-02, -3.48693086e-03, -2.16768552e-02, -8.86729360e-03,\n",
       "        -1.07748462e-02,  6.81982860e-02, -1.00064605e-01,  3.12751345e-02,\n",
       "        -1.56047968e-02,  8.02545398e-02, -4.42313496e-03, -3.57662328e-02,\n",
       "         4.18937393e-03, -1.74210332e-02, -7.34922141e-02,  3.09013128e-02,\n",
       "         3.21791247e-02, -2.43808771e-03,  3.12383547e-02, -1.62633155e-02,\n",
       "        -3.05873416e-02,  1.03216190e-02,  2.27119471e-03, -7.39364922e-02,\n",
       "        -6.85596913e-02,  2.73876935e-02, -4.04475294e-02, -1.70988962e-02,\n",
       "        -7.28207752e-02,  7.84734078e-03, -1.47514194e-02, -2.58134399e-02,\n",
       "        -1.41877696e-01,  7.99837038e-02, -2.20992472e-02, -3.38524207e-02,\n",
       "        -1.75214335e-02,  4.20166813e-02, -3.89607660e-02, -1.37450919e-03,\n",
       "         3.24590947e-03, -8.59811809e-03, -1.92910328e-03,  3.97602282e-02,\n",
       "        -1.59339190e-01,  9.85422879e-02,  5.82814366e-02,  3.48592475e-02,\n",
       "         9.25682634e-02,  1.08806314e-02,  9.85972770e-03,  3.04633956e-02,\n",
       "        -4.09981720e-02, -1.25139821e-02,  3.68625694e-03, -4.80429158e-02],\n",
       "       dtype=float32)}"
      ]
     },
     "execution_count": 44,
     "metadata": {},
     "output_type": "execute_result"
    }
   ],
   "source": [
    "doc"
   ]
  },
  {
   "cell_type": "code",
   "execution_count": 16,
   "id": "e896b502-43d0-428a-909f-fc9443d4c5bb",
   "metadata": {},
   "outputs": [
    {
     "data": {
      "application/vnd.jupyter.widget-view+json": {
       "model_id": "4ec4d3423dde4156acbb2eb6975c2505",
       "version_major": 2,
       "version_minor": 0
      },
      "text/plain": [
       "  0%|          | 0/948 [00:00<?, ?it/s]"
      ]
     },
     "metadata": {},
     "output_type": "display_data"
    }
   ],
   "source": [
    "for doc in tqdm(documents):\n",
    "    es_client.index(index=index_name, document=doc)"
   ]
  },
  {
   "cell_type": "code",
   "execution_count": 17,
   "id": "84210c49-9f39-4442-9717-33eb64702bd0",
   "metadata": {},
   "outputs": [],
   "source": [
    "query = \"Can I still join the course?\"\n",
    "vector_search_term = model.encode(query)"
   ]
  },
  {
   "cell_type": "code",
   "execution_count": 18,
   "id": "75f8887d-0e81-4141-bccd-a164db3aaa53",
   "metadata": {},
   "outputs": [],
   "source": [
    "def elastic_search_knn(field, vector, course):\n",
    "\n",
    "    knn = {\n",
    "        \"field\": field,\n",
    "        \"query_vector\": vector,\n",
    "        \"k\": 5,\n",
    "        \"num_candidates\": 10000,\n",
    "        \"filter\": {\n",
    "            \"term\": {\n",
    "                \"course\": course\n",
    "            }\n",
    "        }\n",
    "    }\n",
    "\n",
    "    search_query = {\n",
    "        \"knn\": knn,\n",
    "        \"_source\": [\"text\", \"section\", \"question\", \"course\", \"id\"]\n",
    "    }\n",
    "\n",
    "    # Elastic search\n",
    "    es_resp = es_client.search(index=index_name, body=search_query)\n",
    "\n",
    "    # Clean answer\n",
    "    clean_ans = []\n",
    "    \n",
    "    for hit in es_resp['hits']['hits']:\n",
    "        clean_ans.append(hit['_source'])\n",
    "\n",
    "    return clean_ans"
   ]
  },
  {
   "cell_type": "markdown",
   "id": "6458fcda-f863-4dcb-bfc4-6234ce9eb71f",
   "metadata": {},
   "source": [
    "#### Ground truth dataset"
   ]
  },
  {
   "cell_type": "code",
   "execution_count": 22,
   "id": "39f9144f-dbf7-4e34-b8f1-97bd90cf65a0",
   "metadata": {},
   "outputs": [],
   "source": [
    "import pandas as pd"
   ]
  },
  {
   "cell_type": "code",
   "execution_count": 23,
   "id": "e393ebf0-dff3-4b69-b523-ea64c8fc3bb6",
   "metadata": {},
   "outputs": [],
   "source": [
    "df_gt = pd.read_csv('ground-truth-data.csv')"
   ]
  },
  {
   "cell_type": "code",
   "execution_count": 24,
   "id": "adfa40f8-0e3f-4174-900f-c50925fc2153",
   "metadata": {},
   "outputs": [],
   "source": [
    "ground_truth = df_gt.to_dict(orient='records')"
   ]
  },
  {
   "cell_type": "code",
   "execution_count": 45,
   "id": "43bdad03-6102-4e73-b863-c8b9c2e0bdfc",
   "metadata": {},
   "outputs": [
    {
     "data": {
      "text/plain": [
       "[{'question': 'When does the course begin?',\n",
       "  'course': 'data-engineering-zoomcamp',\n",
       "  'document': 'c02e79ef'},\n",
       " {'question': 'How can I get the course schedule?',\n",
       "  'course': 'data-engineering-zoomcamp',\n",
       "  'document': 'c02e79ef'},\n",
       " {'question': 'What is the link for course registration?',\n",
       "  'course': 'data-engineering-zoomcamp',\n",
       "  'document': 'c02e79ef'},\n",
       " {'question': 'How can I receive course announcements?',\n",
       "  'course': 'data-engineering-zoomcamp',\n",
       "  'document': 'c02e79ef'},\n",
       " {'question': 'Where do I join the Slack channel?',\n",
       "  'course': 'data-engineering-zoomcamp',\n",
       "  'document': 'c02e79ef'},\n",
       " {'question': 'Where can I find the prerequisites for this course?',\n",
       "  'course': 'data-engineering-zoomcamp',\n",
       "  'document': '1f6520ca'},\n",
       " {'question': 'How do I check the prerequisites for this course?',\n",
       "  'course': 'data-engineering-zoomcamp',\n",
       "  'document': '1f6520ca'},\n",
       " {'question': 'Where are the course prerequisites listed?',\n",
       "  'course': 'data-engineering-zoomcamp',\n",
       "  'document': '1f6520ca'},\n",
       " {'question': 'What are the requirements for joining this course?',\n",
       "  'course': 'data-engineering-zoomcamp',\n",
       "  'document': '1f6520ca'},\n",
       " {'question': 'Where is the list of prerequisites for the course?',\n",
       "  'course': 'data-engineering-zoomcamp',\n",
       "  'document': '1f6520ca'},\n",
       " {'question': 'Can I enroll in the course after it starts?',\n",
       "  'course': 'data-engineering-zoomcamp',\n",
       "  'document': '7842b56a'}]"
      ]
     },
     "execution_count": 45,
     "metadata": {},
     "output_type": "execute_result"
    }
   ],
   "source": [
    "ground_truth[:11]"
   ]
  },
  {
   "cell_type": "markdown",
   "id": "67231343-a036-4440-8a40-7eb04b6b9187",
   "metadata": {},
   "source": [
    "#### To wrap the function"
   ]
  },
  {
   "cell_type": "markdown",
   "id": "9d8ba00c-3f7a-4b99-adec-662edd4caa0a",
   "metadata": {},
   "source": [
    "question_vector_knn takes parameter as ground_truth elements"
   ]
  },
  {
   "cell_type": "code",
   "execution_count": 39,
   "id": "ac920a4a-e5d3-4e56-93e2-e4463ff908ba",
   "metadata": {},
   "outputs": [
    {
     "data": {
      "text/plain": [
       "{'question': 'When does the course begin?',\n",
       " 'course': 'data-engineering-zoomcamp',\n",
       " 'document': 'c02e79ef'}"
      ]
     },
     "execution_count": 39,
     "metadata": {},
     "output_type": "execute_result"
    }
   ],
   "source": [
    "ground_truth[0]"
   ]
  },
  {
   "cell_type": "code",
   "execution_count": 27,
   "id": "49e2f62d-07e6-4a2b-be48-a91b0ca59d62",
   "metadata": {},
   "outputs": [],
   "source": [
    "def question_vector_knn(q):\n",
    "    question = q['question']\n",
    "    course = q['course']\n",
    "    doc_id = q['document']\n",
    "\n",
    "    v_q = model.encode(question)\n",
    "\n",
    "    return elastic_search_knn(\"question_vector\", v_q, course)"
   ]
  },
  {
   "cell_type": "code",
   "execution_count": 36,
   "id": "d835ef53-95d0-4adf-9187-8bcc737afa8c",
   "metadata": {},
   "outputs": [
    {
     "data": {
      "text/plain": [
       "{'question': 'When does the course begin?',\n",
       " 'course': 'data-engineering-zoomcamp',\n",
       " 'document': 'c02e79ef'}"
      ]
     },
     "execution_count": 36,
     "metadata": {},
     "output_type": "execute_result"
    }
   ],
   "source": [
    "ground_truth[0]"
   ]
  },
  {
   "cell_type": "code",
   "execution_count": 35,
   "id": "ed3438e8-e60d-410a-a9c3-fdd043be195a",
   "metadata": {},
   "outputs": [
    {
     "data": {
      "text/plain": [
       "[{'question': 'Course - When will the course start?',\n",
       "  'course': 'data-engineering-zoomcamp',\n",
       "  'section': 'General course-related questions',\n",
       "  'text': \"The purpose of this document is to capture frequently asked technical questions\\nThe exact day and hour of the course will be 15th Jan 2024 at 17h00. The course will start with the first  “Office Hours'' live.1\\nSubscribe to course public Google Calendar (it works from Desktop only).\\nRegister before the course starts using this link.\\nJoin the course Telegram channel with announcements.\\nDon’t forget to register in DataTalks.Club's Slack and join the channel.\",\n",
       "  'id': 'c02e79ef'},\n",
       " {'question': 'Course - What can I do before the course starts?',\n",
       "  'course': 'data-engineering-zoomcamp',\n",
       "  'section': 'General course-related questions',\n",
       "  'text': 'You can start by installing and setting up all the dependencies and requirements:\\nGoogle cloud account\\nGoogle Cloud SDK\\nPython 3 (installed with Anaconda)\\nTerraform\\nGit\\nLook over the prerequisites and syllabus to see if you are comfortable with these subjects.',\n",
       "  'id': '63394d91'},\n",
       " {'question': 'Course - Can I still join the course after the start date?',\n",
       "  'course': 'data-engineering-zoomcamp',\n",
       "  'section': 'General course-related questions',\n",
       "  'text': \"Yes, even if you don't register, you're still eligible to submit the homeworks.\\nBe aware, however, that there will be deadlines for turning in the final projects. So don't leave everything for the last minute.\",\n",
       "  'id': '7842b56a'},\n",
       " {'question': 'Course - What are the prerequisites for this course?',\n",
       "  'course': 'data-engineering-zoomcamp',\n",
       "  'section': 'General course-related questions',\n",
       "  'text': 'GitHub - DataTalksClub data-engineering-zoomcamp#prerequisites',\n",
       "  'id': '1f6520ca'},\n",
       " {'question': 'Course - Can I follow the course after it finishes?',\n",
       "  'course': 'data-engineering-zoomcamp',\n",
       "  'section': 'General course-related questions',\n",
       "  'text': 'Yes, we will keep all the materials after the course finishes, so you can follow the course at your own pace after it finishes.\\nYou can also continue looking at the homeworks and continue preparing for the next cohort. I guess you can also start working on your final capstone project.',\n",
       "  'id': 'a482086d'}]"
      ]
     },
     "execution_count": 35,
     "metadata": {},
     "output_type": "execute_result"
    }
   ],
   "source": [
    "question_vector_knn(ground_truth[0])"
   ]
  },
  {
   "cell_type": "code",
   "execution_count": 33,
   "id": "8618bfdd-4756-4fbe-a849-943b1aa02ecd",
   "metadata": {},
   "outputs": [],
   "source": [
    "def text_vector_knn(q):\n",
    "    question = q['question']\n",
    "    course = q['course']\n",
    "\n",
    "    v_q = model.encode(question)\n",
    "\n",
    "    return elastic_search_knn(\"text_vector\", v_q, course)"
   ]
  },
  {
   "cell_type": "code",
   "execution_count": 34,
   "id": "d61282ff-0b0f-405d-8f52-8fdfa7dd2692",
   "metadata": {},
   "outputs": [
    {
     "data": {
      "text/plain": [
       "[{'question': 'Course - When will the course start?',\n",
       "  'course': 'data-engineering-zoomcamp',\n",
       "  'section': 'General course-related questions',\n",
       "  'text': \"The purpose of this document is to capture frequently asked technical questions\\nThe exact day and hour of the course will be 15th Jan 2024 at 17h00. The course will start with the first  “Office Hours'' live.1\\nSubscribe to course public Google Calendar (it works from Desktop only).\\nRegister before the course starts using this link.\\nJoin the course Telegram channel with announcements.\\nDon’t forget to register in DataTalks.Club's Slack and join the channel.\",\n",
       "  'id': 'c02e79ef'},\n",
       " {'question': 'Course - Can I follow the course after it finishes?',\n",
       "  'course': 'data-engineering-zoomcamp',\n",
       "  'section': 'General course-related questions',\n",
       "  'text': 'Yes, we will keep all the materials after the course finishes, so you can follow the course at your own pace after it finishes.\\nYou can also continue looking at the homeworks and continue preparing for the next cohort. I guess you can also start working on your final capstone project.',\n",
       "  'id': 'a482086d'},\n",
       " {'question': 'Homework - What are homework and project deadlines?',\n",
       "  'course': 'data-engineering-zoomcamp',\n",
       "  'section': 'General course-related questions',\n",
       "  'text': 'You can find the latest and up-to-date deadlines here: https://docs.google.com/spreadsheets/d/e/2PACX-1vQACMLuutV5rvXg5qICuJGL-yZqIV0FBD84CxPdC5eZHf8TfzB-CJT_3Mo7U7oGVTXmSihPgQxuuoku/pubhtml\\nAlso, take note of Announcements from @Au-Tomator for any extensions or other news. Or, the form may also show the updated deadline, if Instructor(s) has updated it.',\n",
       "  'id': 'a1daf537'},\n",
       " {'question': 'Course - I have registered for the Data Engineering Bootcamp. When can I expect to receive the confirmation email?',\n",
       "  'course': 'data-engineering-zoomcamp',\n",
       "  'section': 'General course-related questions',\n",
       "  'text': \"You don't need it. You're accepted. You can also just start learning and submitting homework without registering. It is not checked against any registered list. Registration is just to gauge interest before the start date.\",\n",
       "  'id': '0bbf41ec'},\n",
       " {'question': 'Course - how many Zoomcamps in a year?',\n",
       "  'course': 'data-engineering-zoomcamp',\n",
       "  'section': 'General course-related questions',\n",
       "  'text': \"There are 3 Zoom Camps in a year, as of 2024. However, they are for separate courses:\\nData-Engineering (Jan - Apr)\\nMLOps (May - Aug)\\nMachine Learning (Sep - Jan)\\nThere's only one Data-Engineering Zoomcamp “live” cohort per year, for the certification. Same as for the other Zoomcamps.\\nThey follow pretty much the same schedule for each cohort per zoomcamp. For Data-Engineering it is (generally) from Jan-Apr of the year. If you’re not interested in the Certificate, you can take any zoom camps at any time, at your own pace, out of sync with any “live” cohort.\",\n",
       "  'id': '2ed9b986'}]"
      ]
     },
     "execution_count": 34,
     "metadata": {},
     "output_type": "execute_result"
    }
   ],
   "source": [
    "text_vector_knn(ground_truth[0])"
   ]
  },
  {
   "cell_type": "markdown",
   "id": "55dac31a-d84b-482e-89e4-c6e715056e22",
   "metadata": {},
   "source": [
    "#### Now we can evaluate the elastic search results:"
   ]
  },
  {
   "cell_type": "code",
   "execution_count": 28,
   "id": "dc0a1394-2c08-4134-9052-383ab01cd01c",
   "metadata": {},
   "outputs": [],
   "source": [
    "def mrr(relevance_total):\n",
    "    score=0.0\n",
    "\n",
    "    for line in relevance_total:\n",
    "        for rank in range(len(line)): # Now we interested in position\n",
    "            if line[rank] == True:\n",
    "                score = score + (1/(rank+1))\n",
    "\n",
    "    return score/len(relevance_total)"
   ]
  },
  {
   "cell_type": "code",
   "execution_count": 29,
   "id": "b1962599-0424-437f-893d-4f17d2d3484c",
   "metadata": {},
   "outputs": [],
   "source": [
    "def hit_rate(relevance_total):\n",
    "    count=0\n",
    "\n",
    "    for line in relevance_total:\n",
    "        if True in line:\n",
    "            count = count + 1\n",
    "\n",
    "    return count/len(relevance_total)"
   ]
  },
  {
   "cell_type": "code",
   "execution_count": 40,
   "id": "f638127a-2c4e-4151-b44a-633f60234e11",
   "metadata": {},
   "outputs": [],
   "source": [
    "def evaluate(ground_truth, search_func):\n",
    "    relevance_total = []\n",
    "\n",
    "    for q in tqdm(ground_truth):\n",
    "        doc_id = q['document'] # The doc_id from ground_truth dataset that AI created\n",
    "        results = search_func(q) # It finds relevant questions with elastic search from original data\n",
    "        relevance = [d['id'] == doc_id for d in results] # If doc_id from ground_truth and elastic search are same, it is relevant\n",
    "        relevance_total.append(relevance)\n",
    "\n",
    "    return {\n",
    "        'hit_rate': hit_rate(relevance_total),\n",
    "        'mrr': mrr(relevance_total)\n",
    "    }"
   ]
  },
  {
   "cell_type": "markdown",
   "id": "714ea59a-5487-4d4a-af01-5cf19b19399d",
   "metadata": {},
   "source": [
    "For each query in the ground truth dataset, the system compares the IDs of the documents returned by the search function with the correct document ID (doc_id) from the ground truth data.\n",
    "\n"
   ]
  },
  {
   "cell_type": "code",
   "execution_count": 31,
   "id": "b419240a-6fe6-4101-82aa-0b1a30a0fc44",
   "metadata": {},
   "outputs": [
    {
     "data": {
      "application/vnd.jupyter.widget-view+json": {
       "model_id": "dc228bc972c7422eb5adcd4446c9bf0e",
       "version_major": 2,
       "version_minor": 0
      },
      "text/plain": [
       "  0%|          | 0/4627 [00:00<?, ?it/s]"
      ]
     },
     "metadata": {},
     "output_type": "display_data"
    },
    {
     "data": {
      "text/plain": [
       "{'hit_rate': 0.773071104387292, 'mrr': 0.6666810748505158}"
      ]
     },
     "execution_count": 31,
     "metadata": {},
     "output_type": "execute_result"
    }
   ],
   "source": [
    "evaluate(ground_truth, question_vector_knn)"
   ]
  },
  {
   "cell_type": "markdown",
   "id": "cc69de81-f2d7-4eb0-ab64-1188560a8734",
   "metadata": {},
   "source": [
    "With elastic search:\n",
    "A search function (question_vector_knn) is defined, which presumably takes a query and finds the most similar documents from a dataset. Cosine similarity.\n"
   ]
  },
  {
   "cell_type": "markdown",
   "id": "b8f82e5d-424b-4070-965d-065f8aeeab16",
   "metadata": {},
   "source": [
    "- The query string from q['question'] is encoded into a vector v_q using the preloaded Sentence Transformer model \n",
    "\n",
    "- The encoded vector v_q is passed to a function elastic_search_knn\n",
    "\n",
    "- The function elastic_search_knn likely performs a nearest-neighbor search in an Elasticsearch index based on the vector v_q, retrieving documents that are most similar to the query vector."
   ]
  },
  {
   "cell_type": "markdown",
   "id": "8882a36c-469c-4bb3-9bf4-bbc278519c38",
   "metadata": {},
   "source": [
    "Then if the ids match (in a loop) from the ground truth data first element and its results from elastic search, it returns True. "
   ]
  },
  {
   "cell_type": "code",
   "execution_count": null,
   "id": "7e9950b6-37e9-4eae-a610-d21299e57ed2",
   "metadata": {},
   "outputs": [],
   "source": []
  }
 ],
 "metadata": {
  "kernelspec": {
   "display_name": "Python 3 (ipykernel)",
   "language": "python",
   "name": "python3"
  },
  "language_info": {
   "codemirror_mode": {
    "name": "ipython",
    "version": 3
   },
   "file_extension": ".py",
   "mimetype": "text/x-python",
   "name": "python",
   "nbconvert_exporter": "python",
   "pygments_lexer": "ipython3",
   "version": "3.10.13"
  }
 },
 "nbformat": 4,
 "nbformat_minor": 5
}
