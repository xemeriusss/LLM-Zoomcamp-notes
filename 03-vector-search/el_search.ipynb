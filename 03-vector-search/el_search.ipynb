{
 "cells": [
  {
   "cell_type": "markdown",
   "id": "879750e0-3c2a-4101-b9bc-36ec5d656f4f",
   "metadata": {},
   "source": [
    "### Building semantic search engine using elastic search vector db"
   ]
  },
  {
   "cell_type": "code",
   "execution_count": null,
   "id": "6a1a793f-59bf-4f24-9fb7-767de0b29d00",
   "metadata": {},
   "outputs": [],
   "source": [
    "import json"
   ]
  },
  {
   "cell_type": "code",
   "execution_count": null,
   "id": "9aac67d7-0d3d-4c2d-b3b0-02864a9479f3",
   "metadata": {},
   "outputs": [],
   "source": [
    "with open('documents.json', 'rt') as f_in:\n",
    "    docs_raw = json.load(f_in)"
   ]
  },
  {
   "cell_type": "code",
   "execution_count": null,
   "id": "5c56e27d-7f8e-44b1-ba53-0cccb12217d2",
   "metadata": {},
   "outputs": [],
   "source": [
    "# Elastic search needs them to be in same hierarchy:\n",
    "documents = []\n",
    "\n",
    "for course_dict in docs_raw:\n",
    "    for doc in course_dict['documents']:\n",
    "        doc['course'] = course_dict['course'] # For each document, a new key 'course' is added\n",
    "        documents.append(doc)\n"
   ]
  },
  {
   "cell_type": "markdown",
   "id": "2bd3e918-ff0b-4804-924d-97a3a336bbf8",
   "metadata": {},
   "source": [
    "## Create embeddings using Pretrained models"
   ]
  },
  {
   "cell_type": "code",
   "execution_count": null,
   "id": "0cfea7f6-3c1e-4dd1-806a-f671dbcebc56",
   "metadata": {
    "scrolled": true
   },
   "outputs": [],
   "source": [
    "pip install sentence_transformers==2.7.0"
   ]
  },
  {
   "cell_type": "code",
   "execution_count": null,
   "id": "1232a1f2-b904-4912-8032-8e9ddb25f778",
   "metadata": {},
   "outputs": [],
   "source": [
    "# Everytime we passed the data to tranformer, it gives us set of vector.\n",
    "# Then we will give this vector to the vector db.\n",
    "from sentence_transformers import SentenceTransformer "
   ]
  },
  {
   "cell_type": "code",
   "execution_count": null,
   "id": "b79a6edf-0542-45c6-a9b2-9849e676de4d",
   "metadata": {},
   "outputs": [],
   "source": [
    "!df -h"
   ]
  },
  {
   "cell_type": "code",
   "execution_count": null,
   "id": "ba73b079-a4de-4efe-bfbf-cb315dfde75d",
   "metadata": {},
   "outputs": [],
   "source": [
    "# 1. Load a pretrained Sentence Transformer model\n",
    "model = SentenceTransformer(\"all-mpnet-base-v2\")"
   ]
  },
  {
   "cell_type": "code",
   "execution_count": null,
   "id": "7a633234-1158-4a13-901e-db0e1c0d0b71",
   "metadata": {},
   "outputs": [],
   "source": [
    "len(model.encode(\"Hey my name is Berry.\")) # Different models have different lengths."
   ]
  },
  {
   "cell_type": "code",
   "execution_count": null,
   "id": "d89dd3c4-1041-49f8-85b0-af057ba6ba2b",
   "metadata": {},
   "outputs": [],
   "source": [
    "documents[5]"
   ]
  },
  {
   "cell_type": "code",
   "execution_count": null,
   "id": "1b3db1a6-d7c2-4c8a-a6ea-004334c19123",
   "metadata": {},
   "outputs": [],
   "source": [
    "operations = []\n",
    "\n",
    "# Creating the dense vector using the pretrained model\n",
    "for doc in documents:\n",
    "    doc[\"text_vector\"] = model.encode(doc[\"text\"]).tolist()\n",
    "    operations.append(doc)"
   ]
  },
  {
   "cell_type": "markdown",
   "id": "afd7626b-d69e-4b7e-a206-249b52b048e9",
   "metadata": {},
   "source": [
    "- The whole idea is creating embeddings for our dataset."
   ]
  },
  {
   "cell_type": "code",
   "execution_count": null,
   "id": "e0e1df1d-3ac0-4c16-a827-c02a803fce8a",
   "metadata": {},
   "outputs": [],
   "source": [
    "operations[5]"
   ]
  },
  {
   "cell_type": "markdown",
   "id": "6e99bab5-1229-49c9-b52f-90e4ed36d986",
   "metadata": {},
   "source": [
    "### Setup elasticsearch connection"
   ]
  },
  {
   "cell_type": "code",
   "execution_count": null,
   "id": "cb3a90d2-7acd-4774-99c3-32adb2cdb76e",
   "metadata": {},
   "outputs": [],
   "source": [
    "from elasticsearch import Elasticsearch\n",
    "\n",
    "es_client = Elasticsearch('http://localhost:9200') # After docker run"
   ]
  },
  {
   "cell_type": "code",
   "execution_count": null,
   "id": "a21f2434-0128-4103-a0a1-d82141643f49",
   "metadata": {},
   "outputs": [],
   "source": [
    "es_client.info()"
   ]
  },
  {
   "cell_type": "markdown",
   "id": "6001ec45-7949-422f-bcfb-fc6edb17f506",
   "metadata": {},
   "source": [
    "### Create Mappings and Index"
   ]
  },
  {
   "cell_type": "markdown",
   "id": "908ffefa-0be3-4a29-9252-8b191d7085d7",
   "metadata": {},
   "source": [
    "- Mapping is the process of defining how a document, and the fields it contains, are stored and indexed."
   ]
  },
  {
   "cell_type": "code",
   "execution_count": null,
   "id": "c00cd646-0ba1-470b-b100-453ba0fd0521",
   "metadata": {},
   "outputs": [],
   "source": [
    "index_settings = {\n",
    "    \"settings\": {\n",
    "        \"number_of_shards\": 1,\n",
    "        \"number_of_replicas\": 0\n",
    "    },\n",
    "    \"mappings\": {\n",
    "        \"properties\": {\n",
    "            \"text\": {\"type\": \"text\"},\n",
    "            \"section\": {\"type\": \"text\"},\n",
    "            \"question\": {\"type\": \"text\"},\n",
    "            \"course\": {\"type\": \"keyword\"},\n",
    "            \"text_vector\": {\"type\": \"dense_vector\", \"dims\": 768, \"index\": True, \"similarity\": \"cosine\"}\n",
    "        }\n",
    "    }\n",
    "}"
   ]
  },
  {
   "cell_type": "code",
   "execution_count": null,
   "id": "41f7e597-4af0-40cc-93a0-d431bb80eef7",
   "metadata": {},
   "outputs": [],
   "source": [
    "index_name = \"course-questions\"\n",
    "\n",
    "# Metadata\n",
    "es_client.indices.delete(index=index_name, ignore_unavailable=True)\n",
    "es_client.indices.create(index=index_name, body=index_settings) # Indexes are created"
   ]
  },
  {
   "cell_type": "markdown",
   "id": "97006ad0-7d92-43bd-8dd4-28b66e98726b",
   "metadata": {},
   "source": [
    "### Ad documents into index"
   ]
  },
  {
   "cell_type": "code",
   "execution_count": null,
   "id": "a82eda77-b915-4ea6-bafb-2602a6fafbf8",
   "metadata": {},
   "outputs": [],
   "source": [
    "for doc in documents:\n",
    "    es_client.index(index=index_name, document=doc)\n"
   ]
  },
  {
   "cell_type": "markdown",
   "id": "02902861-0b28-47f8-bfbf-1fe6912ba537",
   "metadata": {},
   "source": [
    "### Create end user query"
   ]
  },
  {
   "cell_type": "code",
   "execution_count": null,
   "id": "7b2f6fc0-c413-4c68-b891-bcfec0a607dd",
   "metadata": {},
   "outputs": [],
   "source": [
    "search_q = \"Window or mac?\"\n",
    "vector_search_term = model.encode(search_q)"
   ]
  },
  {
   "cell_type": "code",
   "execution_count": null,
   "id": "555f6174-8ea4-40de-b9f1-f3280974d302",
   "metadata": {},
   "outputs": [],
   "source": [
    "# query = {\n",
    "#     \"field\": \"text_vector\",\n",
    "#     \"query_vector\": vector_search_term,\n",
    "#     \"k\": 5,\n",
    "#     \"num_candidates\": 10000,\n",
    "# }"
   ]
  },
  {
   "cell_type": "code",
   "execution_count": null,
   "id": "d07bf67d-db63-4071-981d-b03c18b26441",
   "metadata": {},
   "outputs": [],
   "source": [
    "# # source: Fields that you want in results pack\n",
    "# resp = es_client.search(index=index_name, knn=query, source=[\"text\", \"section\", \"question\", \"course\"])"
   ]
  },
  {
   "cell_type": "code",
   "execution_count": null,
   "id": "2c6d9e8d-f18f-4cd5-b11d-223c9dada632",
   "metadata": {},
   "outputs": [],
   "source": [
    "# search_query = {\n",
    "#         \"size\": 5, # we will get 5 answers in the result\n",
    "#         \"query\": {\n",
    "#             \"bool\": {\n",
    "#                 \"must\": {\n",
    "#                     \"multi_match\": {\n",
    "#                         \"query\": search_q,\n",
    "#                         \"fields\": [\"question^3\", \"text\", \"section\"], # question is 3 times more important. boost\n",
    "#                         \"type\": \"best_fields\"\n",
    "#                     }\n",
    "#                 },\n",
    "#                 \"filter\": {\n",
    "#                     \"term\": {\n",
    "#                         \"course\": \"data-engineering-zoomcamp\" # filtering\n",
    "#                     }\n",
    "#                 }\n",
    "#             }\n",
    "#         }\n",
    "#     }\n",
    "\n",
    "# resp = es_client.search(index=index_name, body=search_query)"
   ]
  },
  {
   "cell_type": "code",
   "execution_count": null,
   "id": "058b0642-48e5-4715-a305-77a37fbb4045",
   "metadata": {},
   "outputs": [],
   "source": [
    "# Advanced semantic search\n",
    "knn_query = {\n",
    "    \"field\": \"text_vector\",\n",
    "    \"query_vector\": vector_search_term,\n",
    "    \"k\": 5,\n",
    "    \"num_candidates\": 10000,\n",
    "}\n",
    "\n"
   ]
  },
  {
   "cell_type": "code",
   "execution_count": null,
   "id": "52ab5df3-d735-4a91-b9e5-6e9f02b1a503",
   "metadata": {},
   "outputs": [],
   "source": [
    "\n",
    "respo = es_client.search(\n",
    "    index=index_name,\n",
    "    query = {\n",
    "        \"match\": {\n",
    "                \"course\": \"data-engineering-zoomcamp\"\n",
    "            }\n",
    "        },\n",
    "    knn=knn_query,\n",
    "    size=5\n",
    ")"
   ]
  },
  {
   "cell_type": "code",
   "execution_count": null,
   "id": "825d9317-0030-475a-8b13-825daf99acfe",
   "metadata": {},
   "outputs": [],
   "source": [
    "respo[\"hits\"][\"hits\"]"
   ]
  },
  {
   "cell_type": "code",
   "execution_count": null,
   "id": "68ec7310-a93d-4188-ae74-3afb13d766f5",
   "metadata": {},
   "outputs": [],
   "source": []
  }
 ],
 "metadata": {
  "kernelspec": {
   "display_name": "Python 3 (ipykernel)",
   "language": "python",
   "name": "python3"
  },
  "language_info": {
   "codemirror_mode": {
    "name": "ipython",
    "version": 3
   },
   "file_extension": ".py",
   "mimetype": "text/x-python",
   "name": "python",
   "nbconvert_exporter": "python",
   "pygments_lexer": "ipython3",
   "version": "3.10.13"
  }
 },
 "nbformat": 4,
 "nbformat_minor": 5
}
