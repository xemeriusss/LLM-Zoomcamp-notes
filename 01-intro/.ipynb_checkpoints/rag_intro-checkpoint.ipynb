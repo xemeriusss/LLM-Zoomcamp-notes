{
 "cells": [
  {
   "cell_type": "code",
   "execution_count": 1,
   "id": "ef8a9ed3-5815-41cd-984f-407b540f2700",
   "metadata": {},
   "outputs": [],
   "source": [
    "import minsearch\n",
    "import json"
   ]
  },
  {
   "cell_type": "code",
   "execution_count": 2,
   "id": "f73d4ad7-41cd-4c32-9d8f-c6da1d250e0c",
   "metadata": {},
   "outputs": [],
   "source": [
    "with open('documents.json', 'rt') as f_in:\n",
    "    docs_raw = json.load(f_in)"
   ]
  },
  {
   "cell_type": "code",
   "execution_count": 3,
   "id": "653b5271-1172-43ef-ab53-6c345ae08e51",
   "metadata": {},
   "outputs": [],
   "source": [
    "documents = []\n",
    "\n",
    "for course_dict in docs_raw:\n",
    "    for doc in course_dict['documents']:\n",
    "        doc['course'] = course_dict['course'] # For each document, a new key 'course' is added\n",
    "        documents.append(doc)\n"
   ]
  },
  {
   "cell_type": "code",
   "execution_count": 4,
   "id": "e162a3ee-96e4-47ad-ac0a-e7340e206120",
   "metadata": {},
   "outputs": [
    {
     "data": {
      "text/plain": [
       "{'text': 'GitHub - DataTalksClub data-engineering-zoomcamp#prerequisites',\n",
       " 'section': 'General course-related questions',\n",
       " 'question': 'Course - What are the prerequisites for this course?',\n",
       " 'course': 'data-engineering-zoomcamp'}"
      ]
     },
     "execution_count": 4,
     "metadata": {},
     "output_type": "execute_result"
    }
   ],
   "source": [
    "documents[1]"
   ]
  },
  {
   "cell_type": "code",
   "execution_count": 5,
   "id": "1a5c7e10-42dc-4ee1-9769-594a35c0bf97",
   "metadata": {},
   "outputs": [],
   "source": [
    "# search engine\n",
    "\n",
    "index = minsearch.Index(\n",
    "    text_fields = [\"question\", \"text\", \"section\"],\n",
    "    keyword_fields = [\"course\"]\n",
    ")"
   ]
  },
  {
   "cell_type": "code",
   "execution_count": 6,
   "id": "a15f7ad0-684c-4b12-b18d-9f8a07eebbd7",
   "metadata": {},
   "outputs": [],
   "source": [
    "# SELECT * WHERE course = \"data-engineering-zoomcamp\" # Filters, elastic search"
   ]
  },
  {
   "cell_type": "code",
   "execution_count": 7,
   "id": "c647c8c8-3268-4095-b8ff-0362f3d1b7ca",
   "metadata": {},
   "outputs": [
    {
     "data": {
      "text/plain": [
       "<minsearch.Index at 0x725afc406440>"
      ]
     },
     "execution_count": 7,
     "metadata": {},
     "output_type": "execute_result"
    }
   ],
   "source": [
    "index.fit(documents) # Now we can use the search engine"
   ]
  },
  {
   "cell_type": "code",
   "execution_count": 8,
   "id": "8e5736ea-b269-4932-ba52-845c98cb29ff",
   "metadata": {},
   "outputs": [],
   "source": [
    "# from openai import OpenAI\n",
    "\n",
    "# client = OpenAI()\n",
    "\n",
    "# Doesn't work\n",
    "\n",
    "# resp = client.chat.completions.create(\n",
    "#     model='gpt-3.5-turbo-16k',\n",
    "#     messages=[{\"role\": \"user\", \"content\":q}]\n",
    "# )"
   ]
  },
  {
   "cell_type": "code",
   "execution_count": 9,
   "id": "e139c896-e94f-4ddf-82cd-a15df222395c",
   "metadata": {},
   "outputs": [],
   "source": [
    "# pip install mistralai"
   ]
  },
  {
   "cell_type": "code",
   "execution_count": 1,
   "id": "3e84ba1f-dcb6-4ddf-b656-306f7fa5b444",
   "metadata": {},
   "outputs": [
    {
     "name": "stdout",
     "output_type": "stream",
     "text": [
      "The secret is: None\n"
     ]
    }
   ],
   "source": [
    "import os\n",
    "\n",
    "# Access the secret from the environment variable\n",
    "my_secret = os.getenv('MISTRAL_API')\n",
    "\n",
    "# Use the secret in your notebook\n",
    "print(f'The secret is: {my_secret}')\n"
   ]
  },
  {
   "cell_type": "code",
   "execution_count": 10,
   "id": "9727a4af-2792-4026-aa8e-0510b19ec4a5",
   "metadata": {},
   "outputs": [],
   "source": [
    "import os\n",
    "from mistralai.client import MistralClient\n",
    "from mistralai.models.chat_completion import ChatMessage\n",
    "\n",
    "model = \"mistral-medium-latest\"\n",
    "\n",
    "client = MistralClient() # Available until August 2\n",
    "\n",
    "# chat_response = client.chat(\n",
    "#     model=model,\n",
    "#     messages=[ChatMessage(role=\"user\", content=q)]\n",
    "# )\n",
    "\n",
    "# print(chat_response.choices[0].message.content)"
   ]
  },
  {
   "cell_type": "markdown",
   "id": "dc4c2794-9c08-43c9-a491-813e756eb47e",
   "metadata": {},
   "source": [
    "## With minsearch"
   ]
  },
  {
   "cell_type": "code",
   "execution_count": 11,
   "id": "c4b1a8e0-626c-4771-b639-93eb2bd569fc",
   "metadata": {},
   "outputs": [],
   "source": [
    "def search(query):\n",
    "    boost = {\"question\": 3.0, \"section\": 0.5}\n",
    "\n",
    "    res = index.search(\n",
    "        query = query,\n",
    "        boost_dict=boost,\n",
    "        num_results=5,\n",
    "        filter_dict={\"course\": \"data-engineering-zoomcamp\"}\n",
    "    )\n",
    "    return res"
   ]
  },
  {
   "cell_type": "code",
   "execution_count": 12,
   "id": "32031b7b-2f44-47f6-bb3f-aed3537b2bf8",
   "metadata": {},
   "outputs": [],
   "source": [
    "# Turn the document to the prompt\n",
    "def build_prompt(query, search_results):\n",
    "    prompt_temp = \"\"\"\n",
    "    You're a course teaching assistant. Answer the QUESTION based on the CONTEXT from the FAQ database.\n",
    "    Use only the facts from the CONTEXT when answering the QUESTION.\n",
    "    \n",
    "    QUESTION: {question}\n",
    "    \n",
    "    CONTEXT: \n",
    "    {context}\n",
    "    \"\"\".strip()\n",
    "\n",
    "    context = \"\"\n",
    "\n",
    "    for doc in search_results:\n",
    "        context = context + f\"section: {doc['section']}\\nquestion: {doc['question']}\\nanswer: {doc['text']}\\n\\n\"\n",
    "\n",
    "    prompt = prompt_temp.format(question=query, context=context).strip()\n",
    "    return prompt\n"
   ]
  },
  {
   "cell_type": "code",
   "execution_count": 13,
   "id": "2c98cc20-5e94-4873-ab36-7d7beab51091",
   "metadata": {},
   "outputs": [],
   "source": [
    "def llm(prompt):\n",
    "    # Put the content into ai\n",
    "    chat_response = client.chat(\n",
    "        model=model,\n",
    "        messages=[ChatMessage(role=\"user\", content=prompt)]\n",
    "    )\n",
    "    \n",
    "    return chat_response.choices[0].message.content"
   ]
  },
  {
   "cell_type": "markdown",
   "id": "13ca0cf1-4224-44da-b7f6-0e91d362eba1",
   "metadata": {},
   "source": [
    "# Run the LLM model"
   ]
  },
  {
   "cell_type": "code",
   "execution_count": 14,
   "id": "ee9ff48e-e479-4a89-83f2-edbce445607f",
   "metadata": {},
   "outputs": [],
   "source": [
    "# RAG flow\n",
    "\n",
    "def rag(query):\n",
    "    search_results = search(query)\n",
    "    prompt = build_prompt(query, search_results)\n",
    "    answer = llm(prompt)\n",
    "    return answer"
   ]
  },
  {
   "cell_type": "code",
   "execution_count": 15,
   "id": "f482781b-7bc1-43fb-9a2b-0b933a4d1957",
   "metadata": {},
   "outputs": [],
   "source": [
    "query = \"How can I learn docker?\""
   ]
  },
  {
   "cell_type": "code",
   "execution_count": 16,
   "id": "06d47fb4-0c8a-42c0-a400-8cfdf33245ab",
   "metadata": {},
   "outputs": [],
   "source": [
    "# rag(query)"
   ]
  },
  {
   "cell_type": "markdown",
   "id": "65c02c11-0bda-48ba-9562-3fb784961789",
   "metadata": {},
   "source": [
    "# With elastic search"
   ]
  },
  {
   "cell_type": "code",
   "execution_count": 20,
   "id": "bba1e7d8-1225-400b-82c0-4b4ab30523bb",
   "metadata": {},
   "outputs": [],
   "source": [
    "from elasticsearch import Elasticsearch"
   ]
  },
  {
   "cell_type": "code",
   "execution_count": 21,
   "id": "b560dd0d-19b2-4eb4-87cd-ad0013a28521",
   "metadata": {},
   "outputs": [],
   "source": [
    "es_client = Elasticsearch('http://localhost:9200') # After docker run"
   ]
  },
  {
   "cell_type": "code",
   "execution_count": 22,
   "id": "b9941aa4-b972-4a68-a2d6-ee8e6024a069",
   "metadata": {},
   "outputs": [
    {
     "data": {
      "text/plain": [
       "ObjectApiResponse({'name': '2a43091f93fe', 'cluster_name': 'docker-cluster', 'cluster_uuid': 'kHTkjrRiSLqLjx-ZACpXCQ', 'version': {'number': '8.4.3', 'build_flavor': 'default', 'build_type': 'docker', 'build_hash': '42f05b9372a9a4a470db3b52817899b99a76ee73', 'build_date': '2022-10-04T07:17:24.662462378Z', 'build_snapshot': False, 'lucene_version': '9.3.0', 'minimum_wire_compatibility_version': '7.17.0', 'minimum_index_compatibility_version': '7.0.0'}, 'tagline': 'You Know, for Search'})"
      ]
     },
     "execution_count": 22,
     "metadata": {},
     "output_type": "execute_result"
    }
   ],
   "source": [
    "es_client.info()"
   ]
  },
  {
   "cell_type": "code",
   "execution_count": 23,
   "id": "85fb3f93-9abc-4fd7-b16b-9da3ddf83e13",
   "metadata": {},
   "outputs": [
    {
     "data": {
      "text/plain": [
       "ObjectApiResponse({'acknowledged': True, 'shards_acknowledged': True, 'index': 'course-questions'})"
      ]
     },
     "execution_count": 23,
     "metadata": {},
     "output_type": "execute_result"
    }
   ],
   "source": [
    "index_settings = {\n",
    "    \"settings\": {\n",
    "        \"number_of_shards\": 1,\n",
    "        \"number_of_replicas\": 0\n",
    "    },\n",
    "    \"mappings\": {\n",
    "        \"properties\": {\n",
    "            \"text\": {\"type\": \"text\"},\n",
    "            \"section\": {\"type\": \"text\"},\n",
    "            \"question\": {\"type\": \"text\"},\n",
    "            \"course\": {\"type\": \"keyword\"} \n",
    "        }\n",
    "    }\n",
    "}\n",
    "\n",
    "index_name = \"course-questions\"\n",
    "\n",
    "es_client.indices.create(index=index_name, body=index_settings) # Indexes are created"
   ]
  },
  {
   "cell_type": "code",
   "execution_count": 24,
   "id": "e8d506ef-ece5-4998-afd0-434c57f64d92",
   "metadata": {},
   "outputs": [],
   "source": [
    "from tqdm.auto import tqdm"
   ]
  },
  {
   "cell_type": "code",
   "execution_count": 25,
   "id": "eb820911-fc41-432e-9ea5-9c0db09cfc59",
   "metadata": {},
   "outputs": [
    {
     "data": {
      "application/vnd.jupyter.widget-view+json": {
       "model_id": "392bd7698ca04265ab66fed8f2a11379",
       "version_major": 2,
       "version_minor": 0
      },
      "text/plain": [
       "  0%|          | 0/948 [00:00<?, ?it/s]"
      ]
     },
     "metadata": {},
     "output_type": "display_data"
    }
   ],
   "source": [
    "for doc in tqdm(documents):\n",
    "    es_client.index(index=index_name, document=doc)"
   ]
  },
  {
   "cell_type": "markdown",
   "id": "f29431d7-6e1f-4944-a017-8da3e4ee0000",
   "metadata": {},
   "source": [
    "## Updating the RAG flow"
   ]
  },
  {
   "cell_type": "code",
   "execution_count": 69,
   "id": "49676893-52f9-456b-b699-084b1dbee6d3",
   "metadata": {},
   "outputs": [],
   "source": [
    "query = \"I just discovered the course. Can I still join it?\""
   ]
  },
  {
   "cell_type": "code",
   "execution_count": 70,
   "id": "98551518-704f-4427-bd25-117733468b17",
   "metadata": {},
   "outputs": [],
   "source": [
    "def elastic_search(query):\n",
    "    # search query that we sent to elastic search\n",
    "    search_query = {\n",
    "        \"size\": 5, # we will get 5 answers in the result\n",
    "        \"query\": {\n",
    "            \"bool\": {\n",
    "                \"must\": {\n",
    "                    \"multi_match\": {\n",
    "                        \"query\": query,\n",
    "                        \"fields\": [\"question^3\", \"text\", \"section\"], # question is 3 times more important. boost\n",
    "                        \"type\": \"best_fields\"\n",
    "                    }\n",
    "                },\n",
    "                \"filter\": {\n",
    "                    \"term\": {\n",
    "                        \"course\": \"data-engineering-zoomcamp\" # filtering\n",
    "                    }\n",
    "                }\n",
    "            }\n",
    "        }\n",
    "    }\n",
    "\n",
    "    resp = es_client.search(index=index_name, body=search_query)\n",
    "\n",
    "    result_docs = []\n",
    "\n",
    "    # To format with text, section, question, course\n",
    "    for hit in resp['hits']['hits']:\n",
    "        result_docs.append(hit['_source'])\n",
    "\n",
    "    return result_docs\n",
    "\n",
    "    \n",
    "        "
   ]
  },
  {
   "cell_type": "code",
   "execution_count": 71,
   "id": "5bfce8e8-dbb8-4bb5-b7f8-07cf68274e4c",
   "metadata": {},
   "outputs": [],
   "source": [
    "resp = elastic_search(query)"
   ]
  },
  {
   "cell_type": "code",
   "execution_count": 72,
   "id": "5aff2dc1-22cb-4fbe-b60d-1722681a592f",
   "metadata": {},
   "outputs": [
    {
     "data": {
      "text/plain": [
       "[{'text': \"Yes, even if you don't register, you're still eligible to submit the homeworks.\\nBe aware, however, that there will be deadlines for turning in the final projects. So don't leave everything for the last minute.\",\n",
       "  'section': 'General course-related questions',\n",
       "  'question': 'Course - Can I still join the course after the start date?',\n",
       "  'course': 'data-engineering-zoomcamp'},\n",
       " {'text': 'Yes, we will keep all the materials after the course finishes, so you can follow the course at your own pace after it finishes.\\nYou can also continue looking at the homeworks and continue preparing for the next cohort. I guess you can also start working on your final capstone project.',\n",
       "  'section': 'General course-related questions',\n",
       "  'question': 'Course - Can I follow the course after it finishes?',\n",
       "  'course': 'data-engineering-zoomcamp'},\n",
       " {'text': 'You can start by installing and setting up all the dependencies and requirements:\\nGoogle cloud account\\nGoogle Cloud SDK\\nPython 3 (installed with Anaconda)\\nTerraform\\nGit\\nLook over the prerequisites and syllabus to see if you are comfortable with these subjects.',\n",
       "  'section': 'General course-related questions',\n",
       "  'question': 'Course - What can I do before the course starts?',\n",
       "  'course': 'data-engineering-zoomcamp'},\n",
       " {'text': 'Yes, the slack channel remains open and you can ask questions there. But always sDocker containers exit code w search the channel first and second, check the FAQ (this document), most likely all your questions are already answered here.\\nYou can also tag the bot @ZoomcampQABot to help you conduct the search, but don’t rely on its answers 100%, it is pretty good though.',\n",
       "  'section': 'General course-related questions',\n",
       "  'question': 'Course - Can I get support if I take the course in the self-paced mode?',\n",
       "  'course': 'data-engineering-zoomcamp'},\n",
       " {'text': \"You don't need it. You're accepted. You can also just start learning and submitting homework without registering. It is not checked against any registered list. Registration is just to gauge interest before the start date.\",\n",
       "  'section': 'General course-related questions',\n",
       "  'question': 'Course - I have registered for the Data Engineering Bootcamp. When can I expect to receive the confirmation email?',\n",
       "  'course': 'data-engineering-zoomcamp'}]"
      ]
     },
     "execution_count": 72,
     "metadata": {},
     "output_type": "execute_result"
    }
   ],
   "source": [
    "resp"
   ]
  },
  {
   "cell_type": "markdown",
   "id": "cf321fba-6b45-47ef-bc13-e01f703f1ea9",
   "metadata": {},
   "source": [
    "### To see indexes clearly"
   ]
  },
  {
   "cell_type": "code",
   "execution_count": 73,
   "id": "8bffc283-24cd-48ce-8255-d9b70161ba62",
   "metadata": {},
   "outputs": [
    {
     "name": "stdout",
     "output_type": "stream",
     "text": [
      "Course: data-engineering-zoomcamp\n",
      "Section: General course-related questions\n",
      "Question: Course - Can I still join the course after the start date?\n",
      "Text: Yes, even if you don't register, you're still eligible to submit the homeworks.\n",
      "Be aware, however, that there will be deadlines for turning in the final projects. So don't leave everything for the last minute.\n",
      "\n",
      "--------------------------------------------------------------------------------\n",
      "Course: data-engineering-zoomcamp\n",
      "Section: General course-related questions\n",
      "Question: Course - Can I follow the course after it finishes?\n",
      "Text: Yes, we will keep all the materials after the course finishes, so you can follow the course at your own pace after it finishes.\n",
      "You can also continue looking at the homeworks and continue preparing for the next cohort. I guess you can also start working on your final capstone project.\n",
      "\n",
      "--------------------------------------------------------------------------------\n",
      "Course: data-engineering-zoomcamp\n",
      "Section: General course-related questions\n",
      "Question: Course - What can I do before the course starts?\n",
      "Text: You can start by installing and setting up all the dependencies and requirements:\n",
      "Google cloud account\n",
      "Google Cloud SDK\n",
      "Python 3 (installed with Anaconda)\n",
      "Terraform\n",
      "Git\n",
      "Look over the prerequisites and syllabus to see if you are comfortable with these subjects.\n",
      "\n",
      "--------------------------------------------------------------------------------\n",
      "Course: data-engineering-zoomcamp\n",
      "Section: General course-related questions\n",
      "Question: Course - Can I get support if I take the course in the self-paced mode?\n",
      "Text: Yes, the slack channel remains open and you can ask questions there. But always sDocker containers exit code w search the channel first and second, check the FAQ (this document), most likely all your questions are already answered here.\n",
      "You can also tag the bot @ZoomcampQABot to help you conduct the search, but don’t rely on its answers 100%, it is pretty good though.\n",
      "\n",
      "--------------------------------------------------------------------------------\n",
      "Course: data-engineering-zoomcamp\n",
      "Section: General course-related questions\n",
      "Question: Course - I have registered for the Data Engineering Bootcamp. When can I expect to receive the confirmation email?\n",
      "Text: You don't need it. You're accepted. You can also just start learning and submitting homework without registering. It is not checked against any registered list. Registration is just to gauge interest before the start date.\n",
      "\n",
      "--------------------------------------------------------------------------------\n"
     ]
    }
   ],
   "source": [
    "# def print_search_response(response):\n",
    "#     hits = response['hits']['hits']\n",
    "#     print(f\"Total Hits: {response['hits']['total']['value']}\\n\")\n",
    "#     for hit in hits:\n",
    "#         print(f\"Index: {hit['_index']}\")\n",
    "#         print(f\"ID: {hit['_id']}\")\n",
    "#         print(f\"Score: {hit['_score']}\")\n",
    "#         print(f\"Section: {hit['_source']['section']}\")\n",
    "#         print(f\"Question: {hit['_source']['question']}\")\n",
    "#         print(f\"Text: {hit['_source']['text']}\")\n",
    "#         print(f\"Course: {hit['_source']['course']}\\n\")\n",
    "#         print(\"-\" * 80)\n",
    "\n",
    "def print_search_response(results):\n",
    "    for result in results:\n",
    "        print(f\"Course: {result['course']}\")\n",
    "        print(f\"Section: {result['section']}\")\n",
    "        print(f\"Question: {result['question']}\")\n",
    "        print(f\"Text: {result['text']}\\n\")\n",
    "        print(\"-\" * 80)\n",
    "\n",
    "\n",
    "# Print the example response clearly\n",
    "print_search_response(resp)\n"
   ]
  },
  {
   "cell_type": "code",
   "execution_count": 74,
   "id": "75552157-9068-4c34-beeb-810b19667bf5",
   "metadata": {},
   "outputs": [],
   "source": [
    "# RAG flow\n",
    "\n",
    "def elastic_search_rag(query):\n",
    "    search_results = elastic_search(query)\n",
    "    prompt = build_prompt(query, search_results)\n",
    "    answer = llm(prompt)\n",
    "    return answer"
   ]
  },
  {
   "cell_type": "code",
   "execution_count": 75,
   "id": "6e3a91d8-11c4-4c8c-b190-d82e88f8a5be",
   "metadata": {},
   "outputs": [
    {
     "data": {
      "text/plain": [
       "'Yes, you can still join the course even if it has already started. You are eligible to submit homeworks and follow the course at your own pace. Just be aware of the deadlines for turning in the final projects. You can also start setting up the required dependencies and looking over the prerequisites and syllabus in preparation for the course. Additionally, you can ask questions on the slack channel and search the FAQ for answers while taking the course in the self-paced mode.'"
      ]
     },
     "execution_count": 75,
     "metadata": {},
     "output_type": "execute_result"
    }
   ],
   "source": [
    "elastic_search_rag(query)"
   ]
  },
  {
   "cell_type": "code",
   "execution_count": null,
   "id": "13284cca-e64e-4207-ad4e-7915bfc19126",
   "metadata": {},
   "outputs": [],
   "source": []
  }
 ],
 "metadata": {
  "kernelspec": {
   "display_name": "Python 3 (ipykernel)",
   "language": "python",
   "name": "python3"
  },
  "language_info": {
   "codemirror_mode": {
    "name": "ipython",
    "version": 3
   },
   "file_extension": ".py",
   "mimetype": "text/x-python",
   "name": "python",
   "nbconvert_exporter": "python",
   "pygments_lexer": "ipython3",
   "version": "3.10.13"
  }
 },
 "nbformat": 4,
 "nbformat_minor": 5
}
