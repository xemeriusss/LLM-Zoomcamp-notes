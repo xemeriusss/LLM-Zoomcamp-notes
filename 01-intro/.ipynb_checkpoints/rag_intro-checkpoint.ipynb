{
 "cells": [
  {
   "cell_type": "code",
   "execution_count": 6,
   "id": "38240464-a15d-446e-a71a-8ae8e5de0899",
   "metadata": {},
   "outputs": [],
   "source": []
  },
  {
   "cell_type": "code",
   "execution_count": 14,
   "id": "ef8a9ed3-5815-41cd-984f-407b540f2700",
   "metadata": {},
   "outputs": [],
   "source": [
    "import minsearch\n",
    "import json"
   ]
  },
  {
   "cell_type": "code",
   "execution_count": 15,
   "id": "f73d4ad7-41cd-4c32-9d8f-c6da1d250e0c",
   "metadata": {},
   "outputs": [],
   "source": [
    "with open('documents.json', 'rt') as f_in:\n",
    "    docs_raw = json.load(f_in)"
   ]
  },
  {
   "cell_type": "code",
   "execution_count": 16,
   "id": "653b5271-1172-43ef-ab53-6c345ae08e51",
   "metadata": {},
   "outputs": [],
   "source": [
    "documents = []\n",
    "\n",
    "for course_dict in docs_raw:\n",
    "    for doc in course_dict['documents']:\n",
    "        doc['course'] = course_dict['course'] # For each document, a new key 'course' is added\n",
    "        documents.append(doc)\n"
   ]
  },
  {
   "cell_type": "code",
   "execution_count": 17,
   "id": "e162a3ee-96e4-47ad-ac0a-e7340e206120",
   "metadata": {},
   "outputs": [
    {
     "data": {
      "text/plain": [
       "{'text': 'GitHub - DataTalksClub data-engineering-zoomcamp#prerequisites',\n",
       " 'section': 'General course-related questions',\n",
       " 'question': 'Course - What are the prerequisites for this course?',\n",
       " 'course': 'data-engineering-zoomcamp'}"
      ]
     },
     "execution_count": 17,
     "metadata": {},
     "output_type": "execute_result"
    }
   ],
   "source": [
    "documents[1]"
   ]
  },
  {
   "cell_type": "code",
   "execution_count": 18,
   "id": "1a5c7e10-42dc-4ee1-9769-594a35c0bf97",
   "metadata": {},
   "outputs": [],
   "source": [
    "# search engine\n",
    "\n",
    "index = minsearch.Index(\n",
    "    text_fields = [\"question\", \"text\", \"section\"],\n",
    "    keyword_fields = [\"course\"]\n",
    ")"
   ]
  },
  {
   "cell_type": "code",
   "execution_count": 20,
   "id": "a15f7ad0-684c-4b12-b18d-9f8a07eebbd7",
   "metadata": {},
   "outputs": [],
   "source": [
    "# SELECT * WHERE course = \"data-engineering-zoomcamp\" # Filters, elastic search"
   ]
  },
  {
   "cell_type": "code",
   "execution_count": 21,
   "id": "c647c8c8-3268-4095-b8ff-0362f3d1b7ca",
   "metadata": {},
   "outputs": [
    {
     "data": {
      "text/plain": [
       "<minsearch.Index at 0x794b2a66f1f0>"
      ]
     },
     "execution_count": 21,
     "metadata": {},
     "output_type": "execute_result"
    }
   ],
   "source": [
    "index.fit(documents) # Now we can use the search engine"
   ]
  },
  {
   "cell_type": "code",
   "execution_count": 22,
   "id": "8e5736ea-b269-4932-ba52-845c98cb29ff",
   "metadata": {},
   "outputs": [],
   "source": [
    "# from openai import OpenAI\n",
    "\n",
    "# client = OpenAI()\n",
    "\n",
    "# Doesn't work\n",
    "\n",
    "# resp = client.chat.completions.create(\n",
    "#     model='gpt-3.5-turbo-16k',\n",
    "#     messages=[{\"role\": \"user\", \"content\":q}]\n",
    "# )"
   ]
  },
  {
   "cell_type": "code",
   "execution_count": 23,
   "id": "e139c896-e94f-4ddf-82cd-a15df222395c",
   "metadata": {},
   "outputs": [],
   "source": [
    "# pip install mistralai"
   ]
  },
  {
   "cell_type": "code",
   "execution_count": 24,
   "id": "9727a4af-2792-4026-aa8e-0510b19ec4a5",
   "metadata": {},
   "outputs": [],
   "source": [
    "import os\n",
    "from mistralai.client import MistralClient\n",
    "from mistralai.models.chat_completion import ChatMessage\n",
    "\n",
    "model = \"mistral-medium-latest\"\n",
    "\n",
    "client = MistralClient() # Available until August 2\n",
    "\n",
    "# chat_response = client.chat(\n",
    "#     model=model,\n",
    "#     messages=[ChatMessage(role=\"user\", content=q)]\n",
    "# )\n",
    "\n",
    "# print(chat_response.choices[0].message.content)"
   ]
  },
  {
   "cell_type": "code",
   "execution_count": 25,
   "id": "c4b1a8e0-626c-4771-b639-93eb2bd569fc",
   "metadata": {},
   "outputs": [],
   "source": [
    "def search(query):\n",
    "    boost = {\"question\": 3.0, \"section\": 0.5}\n",
    "\n",
    "    res = index.search(\n",
    "        query = query,\n",
    "        boost_dict=boost,\n",
    "        num_results=5,\n",
    "        filter_dict={\"course\": \"data-engineering-zoomcamp\"}\n",
    "    )\n",
    "    return res"
   ]
  },
  {
   "cell_type": "code",
   "execution_count": 32,
   "id": "32031b7b-2f44-47f6-bb3f-aed3537b2bf8",
   "metadata": {},
   "outputs": [],
   "source": [
    "# Turn the document to the prompt\n",
    "def build_prompt(query, search_results):\n",
    "    prompt_temp = \"\"\"\n",
    "    You're a course teaching assistant. Answer the QUESTION based on the CONTEXT from the FAQ database.\n",
    "    Use only the facts from the CONTEXT when answering the QUESTION.\n",
    "    \n",
    "    QUESTION: {question}\n",
    "    \n",
    "    CONTEXT: \n",
    "    {context}\n",
    "    \"\"\".strip()\n",
    "\n",
    "    context = \"\"\n",
    "\n",
    "    for doc in search_results:\n",
    "        context = context + f\"section: {doc['section']}\\nquestion: {doc['question']}\\nanswer: {doc['text']}\\n\\n\"\n",
    "\n",
    "    prompt = prompt_temp.format(question=query, context=context).strip()\n",
    "    return prompt\n"
   ]
  },
  {
   "cell_type": "code",
   "execution_count": 35,
   "id": "2c98cc20-5e94-4873-ab36-7d7beab51091",
   "metadata": {},
   "outputs": [],
   "source": [
    "def llm(prompt):\n",
    "    # Put the content into ai\n",
    "    chat_response = client.chat(\n",
    "        model=model,\n",
    "        messages=[ChatMessage(role=\"user\", content=prompt)]\n",
    "    )\n",
    "    \n",
    "    return chat_response.choices[0].message.content"
   ]
  },
  {
   "cell_type": "code",
   "execution_count": 49,
   "id": "ee9ff48e-e479-4a89-83f2-edbce445607f",
   "metadata": {},
   "outputs": [],
   "source": [
    "# RAG flow\n",
    "\n",
    "def rag(query):\n",
    "    search_results = search(query)\n",
    "    prompt = build_prompt(query, search_results)\n",
    "    answer = llm(prompt)\n",
    "    return answer"
   ]
  },
  {
   "cell_type": "code",
   "execution_count": 50,
   "id": "f482781b-7bc1-43fb-9a2b-0b933a4d1957",
   "metadata": {},
   "outputs": [],
   "source": [
    "query = \"What is this course about?\""
   ]
  },
  {
   "cell_type": "code",
   "execution_count": 51,
   "id": "06d47fb4-0c8a-42c0-a400-8cfdf33245ab",
   "metadata": {},
   "outputs": [
    {
     "data": {
      "text/plain": [
       "'According to the provided context, the course is about data engineering and will involve the use of various tools such as Google Cloud, Google Cloud SDK, Python 3 with Anaconda, Terraform, and Git. It is expected to require about 5-15 hours per week, depending on the student\\'s background and previous experience. The exact start date of the course is January 15, 2024 at 17h00. Prerequisites for the course can be found in the GitHub repository for the course. Students are expected to create a GitHub account and clone the course repository to their local machine. They may also create their own repositories for their notes and versions of their files.\\n\\nTo answer the question \"What is this course about?\" based on the provided context, this course is about data engineering and will cover topics such as Google Cloud, Google Cloud SDK, Python 3 with Anaconda, Terraform, and Git. It is expected to require a time commitment of 5-15 hours per week. Students will need to have a GitHub account and clone the course repository to their local machine. Prerequisites for the course can be found in the GitHub repository.'"
      ]
     },
     "execution_count": 51,
     "metadata": {},
     "output_type": "execute_result"
    }
   ],
   "source": [
    "rag(query)"
   ]
  },
  {
   "cell_type": "code",
   "execution_count": null,
   "id": "ad61fa03-faf8-40e6-8278-733c83ebff42",
   "metadata": {},
   "outputs": [],
   "source": []
  }
 ],
 "metadata": {
  "kernelspec": {
   "display_name": "Python 3 (ipykernel)",
   "language": "python",
   "name": "python3"
  },
  "language_info": {
   "codemirror_mode": {
    "name": "ipython",
    "version": 3
   },
   "file_extension": ".py",
   "mimetype": "text/x-python",
   "name": "python",
   "nbconvert_exporter": "python",
   "pygments_lexer": "ipython3",
   "version": "3.10.13"
  }
 },
 "nbformat": 4,
 "nbformat_minor": 5
}
