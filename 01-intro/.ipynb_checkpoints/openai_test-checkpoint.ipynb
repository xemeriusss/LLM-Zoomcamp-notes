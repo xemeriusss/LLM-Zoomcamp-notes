{
 "cells": [
  {
   "cell_type": "code",
   "execution_count": 2,
   "id": "182a1144-f445-4318-8397-632aa417a742",
   "metadata": {},
   "outputs": [],
   "source": [
    "import openai"
   ]
  },
  {
   "cell_type": "code",
   "execution_count": 3,
   "id": "91819923-e6c6-402a-8cd6-c64d2e0091cd",
   "metadata": {},
   "outputs": [],
   "source": [
    "from openai import OpenAI"
   ]
  },
  {
   "cell_type": "code",
   "execution_count": 4,
   "id": "98aadf0b-74c7-4ed8-9fc3-e48bcf0a2b3e",
   "metadata": {},
   "outputs": [],
   "source": [
    "client = OpenAI()"
   ]
  },
  {
   "cell_type": "code",
   "execution_count": 5,
   "id": "65ec8b13-c7ca-47fc-9663-767dec70e8a3",
   "metadata": {},
   "outputs": [],
   "source": [
    "import os"
   ]
  },
  {
   "cell_type": "code",
   "execution_count": null,
   "id": "e65ffebd-d099-485b-848e-ae6cf76269e9",
   "metadata": {
    "scrolled": true
   },
   "outputs": [],
   "source": [
    "client.chat.completions.create(\n",
    "    model='gpt-3.5-turbo-16k',\n",
    "    messages=[{\"role\": \"user\", \"content\": \"is it too late to join the course?\"}]\n",
    ")"
   ]
  },
  {
   "cell_type": "code",
   "execution_count": null,
   "id": "6f77a78b-630b-46a6-9a1c-b5d639f05e46",
   "metadata": {},
   "outputs": [],
   "source": [
    "response"
   ]
  },
  {
   "cell_type": "code",
   "execution_count": null,
   "id": "ff80c21d-fec3-4e9e-afb4-0e7704501ed9",
   "metadata": {},
   "outputs": [],
   "source": []
  }
 ],
 "metadata": {
  "kernelspec": {
   "display_name": "Python 3 (ipykernel)",
   "language": "python",
   "name": "python3"
  },
  "language_info": {
   "codemirror_mode": {
    "name": "ipython",
    "version": 3
   },
   "file_extension": ".py",
   "mimetype": "text/x-python",
   "name": "python",
   "nbconvert_exporter": "python",
   "pygments_lexer": "ipython3",
   "version": "3.10.13"
  }
 },
 "nbformat": 4,
 "nbformat_minor": 5
}
